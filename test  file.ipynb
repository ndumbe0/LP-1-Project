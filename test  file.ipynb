{
 "cells": [
  {
   "cell_type": "code",
   "execution_count": 89,
   "metadata": {},
   "outputs": [],
   "source": [
    "import pandas as pd\n",
    "import numpy as np\n",
    "import matplotlib.pyplot as plt \n",
    "import plotly.express as px\n",
    "import plotly.graph_objs as go\n",
    "import seaborn as sns\n",
    "import sklearn \n",
    "import tkinter as tk\n",
    "from flask import Flask\n",
    "from  dotenv import dotenv_values\n",
    "import pyodbc"
   ]
  },
  {
   "cell_type": "code",
   "execution_count": 3,
   "metadata": {},
   "outputs": [],
   "source": [
    "environment_variables = dotenv_values('.env')"
   ]
  },
  {
   "cell_type": "code",
   "execution_count": 4,
   "metadata": {},
   "outputs": [],
   "source": [
    "server = environment_variables.get(\"dap-projects-database.database.windows.net\")\n",
    "database = environment_variables.get(\"dapDB\")\n",
    "username = environment_variables.get(\"LP1_learner\")\n",
    "password = environment_variables.get(\"Hyp0th3s!$T3$t!ng\")"
   ]
  },
  {
   "cell_type": "code",
   "execution_count": 5,
   "metadata": {},
   "outputs": [],
   "source": [
    "connection_string = f\"DRIVER={{SQL Server}};SERVER={\"dap-projects-database.database.windows.net\"};DATABASE={\"dapDB\"};UID={\"LP1_learner\"};PWD={\"Hyp0th3s!$T3$t!ng\"};MARS_Connection=yes;MinProtocolVersion=TLSv1.2;\""
   ]
  },
  {
   "cell_type": "code",
   "execution_count": 6,
   "metadata": {},
   "outputs": [],
   "source": [
    "connection = pyodbc.connect(connection_string)"
   ]
  },
  {
   "cell_type": "code",
   "execution_count": 7,
   "metadata": {},
   "outputs": [
    {
     "name": "stderr",
     "output_type": "stream",
     "text": [
      "C:\\Users\\MoseS\\AppData\\Local\\Temp\\ipykernel_10996\\811209987.py:3: UserWarning: pandas only supports SQLAlchemy connectable (engine/connection) or database string URI or sqlite3 DBAPI2 connection. Other DBAPI2 objects are not tested. Please consider using SQLAlchemy.\n",
      "  data = pd.read_sql(query, connection)\n"
     ]
    }
   ],
   "source": [
    "query = \"SELECT * FROM dbo.LP1_startup_funding2021\"\n",
    "\n",
    "data = pd.read_sql(query, connection)"
   ]
  },
  {
   "cell_type": "code",
   "execution_count": 8,
   "metadata": {},
   "outputs": [
    {
     "data": {
      "text/html": [
       "<div>\n",
       "<style scoped>\n",
       "    .dataframe tbody tr th:only-of-type {\n",
       "        vertical-align: middle;\n",
       "    }\n",
       "\n",
       "    .dataframe tbody tr th {\n",
       "        vertical-align: top;\n",
       "    }\n",
       "\n",
       "    .dataframe thead th {\n",
       "        text-align: right;\n",
       "    }\n",
       "</style>\n",
       "<table border=\"1\" class=\"dataframe\">\n",
       "  <thead>\n",
       "    <tr style=\"text-align: right;\">\n",
       "      <th></th>\n",
       "      <th>Company_Brand</th>\n",
       "      <th>Founded</th>\n",
       "      <th>HeadQuarter</th>\n",
       "      <th>Sector</th>\n",
       "      <th>What_it_does</th>\n",
       "      <th>Founders</th>\n",
       "      <th>Investor</th>\n",
       "      <th>Amount</th>\n",
       "      <th>Stage</th>\n",
       "    </tr>\n",
       "  </thead>\n",
       "  <tbody>\n",
       "    <tr>\n",
       "      <th>0</th>\n",
       "      <td>Unbox Robotics</td>\n",
       "      <td>2019.0</td>\n",
       "      <td>Bangalore</td>\n",
       "      <td>AI startup</td>\n",
       "      <td>Unbox Robotics builds on-demand AI-driven ware...</td>\n",
       "      <td>Pramod Ghadge, Shahid Memon</td>\n",
       "      <td>BEENEXT, Entrepreneur First</td>\n",
       "      <td>$1,200,000</td>\n",
       "      <td>Pre-series A</td>\n",
       "    </tr>\n",
       "    <tr>\n",
       "      <th>1</th>\n",
       "      <td>upGrad</td>\n",
       "      <td>2015.0</td>\n",
       "      <td>Mumbai</td>\n",
       "      <td>EdTech</td>\n",
       "      <td>UpGrad is an online higher education platform.</td>\n",
       "      <td>Mayank Kumar, Phalgun Kompalli, Ravijot Chugh,...</td>\n",
       "      <td>Unilazer Ventures, IIFL Asset Management</td>\n",
       "      <td>$120,000,000</td>\n",
       "      <td>None</td>\n",
       "    </tr>\n",
       "    <tr>\n",
       "      <th>2</th>\n",
       "      <td>Lead School</td>\n",
       "      <td>2012.0</td>\n",
       "      <td>Mumbai</td>\n",
       "      <td>EdTech</td>\n",
       "      <td>LEAD School offers technology based school tra...</td>\n",
       "      <td>Smita Deorah, Sumeet Mehta</td>\n",
       "      <td>GSV Ventures, Westbridge Capital</td>\n",
       "      <td>$30,000,000</td>\n",
       "      <td>Series D</td>\n",
       "    </tr>\n",
       "    <tr>\n",
       "      <th>3</th>\n",
       "      <td>Bizongo</td>\n",
       "      <td>2015.0</td>\n",
       "      <td>Mumbai</td>\n",
       "      <td>B2B E-commerce</td>\n",
       "      <td>Bizongo is a business-to-business online marke...</td>\n",
       "      <td>Aniket Deb, Ankit Tomar, Sachin Agrawal</td>\n",
       "      <td>CDC Group, IDG Capital</td>\n",
       "      <td>$51,000,000</td>\n",
       "      <td>Series C</td>\n",
       "    </tr>\n",
       "    <tr>\n",
       "      <th>4</th>\n",
       "      <td>FypMoney</td>\n",
       "      <td>2021.0</td>\n",
       "      <td>Gurugram</td>\n",
       "      <td>FinTech</td>\n",
       "      <td>FypMoney is Digital NEO Bank for Teenagers, em...</td>\n",
       "      <td>Kapil Banwari</td>\n",
       "      <td>Liberatha Kallat, Mukesh Yadav, Dinesh Nagpal</td>\n",
       "      <td>$2,000,000</td>\n",
       "      <td>Seed</td>\n",
       "    </tr>\n",
       "  </tbody>\n",
       "</table>\n",
       "</div>"
      ],
      "text/plain": [
       "    Company_Brand  Founded HeadQuarter          Sector  \\\n",
       "0  Unbox Robotics   2019.0   Bangalore      AI startup   \n",
       "1          upGrad   2015.0      Mumbai          EdTech   \n",
       "2     Lead School   2012.0      Mumbai          EdTech   \n",
       "3         Bizongo   2015.0      Mumbai  B2B E-commerce   \n",
       "4        FypMoney   2021.0    Gurugram         FinTech   \n",
       "\n",
       "                                        What_it_does  \\\n",
       "0  Unbox Robotics builds on-demand AI-driven ware...   \n",
       "1     UpGrad is an online higher education platform.   \n",
       "2  LEAD School offers technology based school tra...   \n",
       "3  Bizongo is a business-to-business online marke...   \n",
       "4  FypMoney is Digital NEO Bank for Teenagers, em...   \n",
       "\n",
       "                                            Founders  \\\n",
       "0                        Pramod Ghadge, Shahid Memon   \n",
       "1  Mayank Kumar, Phalgun Kompalli, Ravijot Chugh,...   \n",
       "2                         Smita Deorah, Sumeet Mehta   \n",
       "3            Aniket Deb, Ankit Tomar, Sachin Agrawal   \n",
       "4                                      Kapil Banwari   \n",
       "\n",
       "                                        Investor        Amount         Stage  \n",
       "0                    BEENEXT, Entrepreneur First    $1,200,000  Pre-series A  \n",
       "1       Unilazer Ventures, IIFL Asset Management  $120,000,000          None  \n",
       "2               GSV Ventures, Westbridge Capital   $30,000,000      Series D  \n",
       "3                         CDC Group, IDG Capital   $51,000,000      Series C  \n",
       "4  Liberatha Kallat, Mukesh Yadav, Dinesh Nagpal    $2,000,000          Seed  "
      ]
     },
     "execution_count": 8,
     "metadata": {},
     "output_type": "execute_result"
    }
   ],
   "source": [
    "data.head()"
   ]
  },
  {
   "cell_type": "code",
   "execution_count": 9,
   "metadata": {},
   "outputs": [
    {
     "name": "stdout",
     "output_type": "stream",
     "text": [
      "<class 'pandas.core.frame.DataFrame'>\n",
      "RangeIndex: 1209 entries, 0 to 1208\n",
      "Data columns (total 9 columns):\n",
      " #   Column         Non-Null Count  Dtype  \n",
      "---  ------         --------------  -----  \n",
      " 0   Company_Brand  1209 non-null   object \n",
      " 1   Founded        1208 non-null   float64\n",
      " 2   HeadQuarter    1208 non-null   object \n",
      " 3   Sector         1209 non-null   object \n",
      " 4   What_it_does   1209 non-null   object \n",
      " 5   Founders       1205 non-null   object \n",
      " 6   Investor       1147 non-null   object \n",
      " 7   Amount         1206 non-null   object \n",
      " 8   Stage          781 non-null    object \n",
      "dtypes: float64(1), object(8)\n",
      "memory usage: 85.1+ KB\n"
     ]
    }
   ],
   "source": [
    "data.info()"
   ]
  },
  {
   "cell_type": "code",
   "execution_count": 10,
   "metadata": {},
   "outputs": [
    {
     "name": "stderr",
     "output_type": "stream",
     "text": [
      "C:\\Users\\MoseS\\AppData\\Local\\Temp\\ipykernel_10996\\1018150759.py:8: UserWarning: pandas only supports SQLAlchemy connectable (engine/connection) or database string URI or sqlite3 DBAPI2 connection. Other DBAPI2 objects are not tested. Please consider using SQLAlchemy.\n",
      "  data = pd.read_sql(query, connection)\n"
     ]
    },
    {
     "data": {
      "text/html": [
       "<div>\n",
       "<style scoped>\n",
       "    .dataframe tbody tr th:only-of-type {\n",
       "        vertical-align: middle;\n",
       "    }\n",
       "\n",
       "    .dataframe tbody tr th {\n",
       "        vertical-align: top;\n",
       "    }\n",
       "\n",
       "    .dataframe thead th {\n",
       "        text-align: right;\n",
       "    }\n",
       "</style>\n",
       "<table border=\"1\" class=\"dataframe\">\n",
       "  <thead>\n",
       "    <tr style=\"text-align: right;\">\n",
       "      <th></th>\n",
       "      <th>Company_Name</th>\n",
       "      <th>Founded</th>\n",
       "      <th>HeadQuarter</th>\n",
       "      <th>Industry</th>\n",
       "      <th>About_Company</th>\n",
       "      <th>Founders</th>\n",
       "      <th>Investor</th>\n",
       "      <th>Amount</th>\n",
       "      <th>Round/Series</th>\n",
       "    </tr>\n",
       "  </thead>\n",
       "  <tbody>\n",
       "    <tr>\n",
       "      <th>0</th>\n",
       "      <td>Unbox Robotics</td>\n",
       "      <td>2019.0</td>\n",
       "      <td>Bangalore</td>\n",
       "      <td>AI startup</td>\n",
       "      <td>Unbox Robotics builds on-demand AI-driven ware...</td>\n",
       "      <td>Pramod Ghadge, Shahid Memon</td>\n",
       "      <td>BEENEXT, Entrepreneur First</td>\n",
       "      <td>$1,200,000</td>\n",
       "      <td>Pre-series A</td>\n",
       "    </tr>\n",
       "    <tr>\n",
       "      <th>1</th>\n",
       "      <td>upGrad</td>\n",
       "      <td>2015.0</td>\n",
       "      <td>Mumbai</td>\n",
       "      <td>EdTech</td>\n",
       "      <td>UpGrad is an online higher education platform.</td>\n",
       "      <td>Mayank Kumar, Phalgun Kompalli, Ravijot Chugh,...</td>\n",
       "      <td>Unilazer Ventures, IIFL Asset Management</td>\n",
       "      <td>$120,000,000</td>\n",
       "      <td>None</td>\n",
       "    </tr>\n",
       "    <tr>\n",
       "      <th>2</th>\n",
       "      <td>Lead School</td>\n",
       "      <td>2012.0</td>\n",
       "      <td>Mumbai</td>\n",
       "      <td>EdTech</td>\n",
       "      <td>LEAD School offers technology based school tra...</td>\n",
       "      <td>Smita Deorah, Sumeet Mehta</td>\n",
       "      <td>GSV Ventures, Westbridge Capital</td>\n",
       "      <td>$30,000,000</td>\n",
       "      <td>Series D</td>\n",
       "    </tr>\n",
       "    <tr>\n",
       "      <th>3</th>\n",
       "      <td>Bizongo</td>\n",
       "      <td>2015.0</td>\n",
       "      <td>Mumbai</td>\n",
       "      <td>B2B E-commerce</td>\n",
       "      <td>Bizongo is a business-to-business online marke...</td>\n",
       "      <td>Aniket Deb, Ankit Tomar, Sachin Agrawal</td>\n",
       "      <td>CDC Group, IDG Capital</td>\n",
       "      <td>$51,000,000</td>\n",
       "      <td>Series C</td>\n",
       "    </tr>\n",
       "    <tr>\n",
       "      <th>4</th>\n",
       "      <td>FypMoney</td>\n",
       "      <td>2021.0</td>\n",
       "      <td>Gurugram</td>\n",
       "      <td>FinTech</td>\n",
       "      <td>FypMoney is Digital NEO Bank for Teenagers, em...</td>\n",
       "      <td>Kapil Banwari</td>\n",
       "      <td>Liberatha Kallat, Mukesh Yadav, Dinesh Nagpal</td>\n",
       "      <td>$2,000,000</td>\n",
       "      <td>Seed</td>\n",
       "    </tr>\n",
       "  </tbody>\n",
       "</table>\n",
       "</div>"
      ],
      "text/plain": [
       "     Company_Name  Founded HeadQuarter        Industry  \\\n",
       "0  Unbox Robotics   2019.0   Bangalore      AI startup   \n",
       "1          upGrad   2015.0      Mumbai          EdTech   \n",
       "2     Lead School   2012.0      Mumbai          EdTech   \n",
       "3         Bizongo   2015.0      Mumbai  B2B E-commerce   \n",
       "4        FypMoney   2021.0    Gurugram         FinTech   \n",
       "\n",
       "                                       About_Company  \\\n",
       "0  Unbox Robotics builds on-demand AI-driven ware...   \n",
       "1     UpGrad is an online higher education platform.   \n",
       "2  LEAD School offers technology based school tra...   \n",
       "3  Bizongo is a business-to-business online marke...   \n",
       "4  FypMoney is Digital NEO Bank for Teenagers, em...   \n",
       "\n",
       "                                            Founders  \\\n",
       "0                        Pramod Ghadge, Shahid Memon   \n",
       "1  Mayank Kumar, Phalgun Kompalli, Ravijot Chugh,...   \n",
       "2                         Smita Deorah, Sumeet Mehta   \n",
       "3            Aniket Deb, Ankit Tomar, Sachin Agrawal   \n",
       "4                                      Kapil Banwari   \n",
       "\n",
       "                                        Investor        Amount  Round/Series  \n",
       "0                    BEENEXT, Entrepreneur First    $1,200,000  Pre-series A  \n",
       "1       Unilazer Ventures, IIFL Asset Management  $120,000,000          None  \n",
       "2               GSV Ventures, Westbridge Capital   $30,000,000      Series D  \n",
       "3                         CDC Group, IDG Capital   $51,000,000      Series C  \n",
       "4  Liberatha Kallat, Mukesh Yadav, Dinesh Nagpal    $2,000,000          Seed  "
      ]
     },
     "execution_count": 10,
     "metadata": {},
     "output_type": "execute_result"
    }
   ],
   "source": [
    "#Renaming the columns to have one title and not different titles meaning the same thing\n",
    "data = {\n",
    "    'Company_Brand': [0],\n",
    "    'Sector': [3],\n",
    "    'What_it_does': [4],\n",
    "    'Stage': [8]\n",
    "}\n",
    "data = pd.read_sql(query, connection)\n",
    "\n",
    "# Renaming multiple columns\n",
    "data.rename(columns={\n",
    "    'Company_Brand': 'Company_Name',\n",
    "    'Sector': 'Industry',\n",
    "    'What_it_does': 'About_Company',\n",
    "    'Stage': 'Round/Series'\n",
    "}, inplace=True)\n",
    "data.head()\n"
   ]
  },
  {
   "cell_type": "code",
   "execution_count": 11,
   "metadata": {},
   "outputs": [
    {
     "data": {
      "text/plain": [
       "0         $1,200,000\n",
       "1       $120,000,000\n",
       "2        $30,000,000\n",
       "3        $51,000,000\n",
       "4         $2,000,000\n",
       "            ...     \n",
       "1204        $3000000\n",
       "1205       $20000000\n",
       "1206       $55000000\n",
       "1207       $26000000\n",
       "1208        $8000000\n",
       "Name: Amount, Length: 1209, dtype: object"
      ]
     },
     "execution_count": 11,
     "metadata": {},
     "output_type": "execute_result"
    }
   ],
   "source": [
    "data[\"Amount\"]"
   ]
  },
  {
   "cell_type": "code",
   "execution_count": 12,
   "metadata": {},
   "outputs": [
    {
     "data": {
      "text/plain": [
       "0         1200000\n",
       "1       120000000\n",
       "2        30000000\n",
       "3        51000000\n",
       "4         2000000\n",
       "          ...    \n",
       "1204      3000000\n",
       "1205     20000000\n",
       "1206     55000000\n",
       "1207     26000000\n",
       "1208      8000000\n",
       "Name: Amount, Length: 1209, dtype: object"
      ]
     },
     "execution_count": 12,
     "metadata": {},
     "output_type": "execute_result"
    }
   ],
   "source": [
    "#Removing the dollar signs from the Amount$ column\n",
    "data['Amount'] = data.Amount.str.replace('$', '')\n",
    "data['Amount'] = data.Amount.str.replace(',', '')\n",
    "data[\"Amount\"]"
   ]
  },
  {
   "cell_type": "code",
   "execution_count": 13,
   "metadata": {},
   "outputs": [
    {
     "name": "stdout",
     "output_type": "stream",
     "text": [
      "<class 'pandas.core.frame.DataFrame'>\n",
      "Index: 745 entries, 0 to 1208\n",
      "Data columns (total 9 columns):\n",
      " #   Column         Non-Null Count  Dtype  \n",
      "---  ------         --------------  -----  \n",
      " 0   Company_Name   745 non-null    object \n",
      " 1   Founded        745 non-null    float64\n",
      " 2   HeadQuarter    745 non-null    object \n",
      " 3   Industry       745 non-null    object \n",
      " 4   About_Company  745 non-null    object \n",
      " 5   Founders       741 non-null    object \n",
      " 6   Investor       745 non-null    object \n",
      " 7   Amount         745 non-null    object \n",
      " 8   Round/Series   745 non-null    object \n",
      "dtypes: float64(1), object(8)\n",
      "memory usage: 58.2+ KB\n"
     ]
    }
   ],
   "source": [
    "# Assuming 'data' is your DataFrame\n",
    "data = data.dropna(subset=['Founded', 'HeadQuarter', 'Investor', 'Amount', 'Round/Series'])\n",
    "data.info()"
   ]
  },
  {
   "cell_type": "code",
   "execution_count": 14,
   "metadata": {},
   "outputs": [
    {
     "data": {
      "text/plain": [
       "0       2019.0\n",
       "2       2012.0\n",
       "3       2015.0\n",
       "4       2021.0\n",
       "7       2016.0\n",
       "         ...  \n",
       "1204    2019.0\n",
       "1205    2015.0\n",
       "1206    2019.0\n",
       "1207    2015.0\n",
       "1208    2019.0\n",
       "Name: Founded, Length: 745, dtype: float64"
      ]
     },
     "execution_count": 14,
     "metadata": {},
     "output_type": "execute_result"
    }
   ],
   "source": [
    "data[\"Founded\"]"
   ]
  },
  {
   "cell_type": "code",
   "execution_count": 15,
   "metadata": {},
   "outputs": [
    {
     "data": {
      "text/plain": [
       "0       2019\n",
       "2       2012\n",
       "3       2015\n",
       "4       2021\n",
       "7       2016\n",
       "        ... \n",
       "1204    2019\n",
       "1205    2015\n",
       "1206    2019\n",
       "1207    2015\n",
       "1208    2019\n",
       "Name: Founded, Length: 745, dtype: int64"
      ]
     },
     "execution_count": 15,
     "metadata": {},
     "output_type": "execute_result"
    }
   ],
   "source": [
    "# Writing our years in whole numbers\n",
    "data['Founded'] = data['Founded'].astype(int)\n",
    "data[\"Founded\"]\n"
   ]
  },
  {
   "cell_type": "code",
   "execution_count": 16,
   "metadata": {},
   "outputs": [
    {
     "data": {
      "text/html": [
       "<div>\n",
       "<style scoped>\n",
       "    .dataframe tbody tr th:only-of-type {\n",
       "        vertical-align: middle;\n",
       "    }\n",
       "\n",
       "    .dataframe tbody tr th {\n",
       "        vertical-align: top;\n",
       "    }\n",
       "\n",
       "    .dataframe thead th {\n",
       "        text-align: right;\n",
       "    }\n",
       "</style>\n",
       "<table border=\"1\" class=\"dataframe\">\n",
       "  <thead>\n",
       "    <tr style=\"text-align: right;\">\n",
       "      <th></th>\n",
       "      <th>Company_Name</th>\n",
       "      <th>Founded</th>\n",
       "      <th>HeadQuarter</th>\n",
       "      <th>Industry</th>\n",
       "      <th>About_Company</th>\n",
       "      <th>Founders</th>\n",
       "      <th>Investor</th>\n",
       "      <th>Amount</th>\n",
       "      <th>Round/Series</th>\n",
       "    </tr>\n",
       "  </thead>\n",
       "  <tbody>\n",
       "    <tr>\n",
       "      <th>0</th>\n",
       "      <td>Unbox Robotics</td>\n",
       "      <td>2019</td>\n",
       "      <td>Bangalore</td>\n",
       "      <td>AI startup</td>\n",
       "      <td>Unbox Robotics builds on-demand AI-driven ware...</td>\n",
       "      <td>Pramod Ghadge, Shahid Memon</td>\n",
       "      <td>BEENEXT, Entrepreneur First</td>\n",
       "      <td>1200000</td>\n",
       "      <td>Pre-series A</td>\n",
       "    </tr>\n",
       "    <tr>\n",
       "      <th>2</th>\n",
       "      <td>Lead School</td>\n",
       "      <td>2012</td>\n",
       "      <td>Mumbai</td>\n",
       "      <td>EdTech</td>\n",
       "      <td>LEAD School offers technology based school tra...</td>\n",
       "      <td>Smita Deorah, Sumeet Mehta</td>\n",
       "      <td>GSV Ventures, Westbridge Capital</td>\n",
       "      <td>30000000</td>\n",
       "      <td>Series D</td>\n",
       "    </tr>\n",
       "    <tr>\n",
       "      <th>3</th>\n",
       "      <td>Bizongo</td>\n",
       "      <td>2015</td>\n",
       "      <td>Mumbai</td>\n",
       "      <td>B2B E-commerce</td>\n",
       "      <td>Bizongo is a business-to-business online marke...</td>\n",
       "      <td>Aniket Deb, Ankit Tomar, Sachin Agrawal</td>\n",
       "      <td>CDC Group, IDG Capital</td>\n",
       "      <td>51000000</td>\n",
       "      <td>Series C</td>\n",
       "    </tr>\n",
       "    <tr>\n",
       "      <th>4</th>\n",
       "      <td>FypMoney</td>\n",
       "      <td>2021</td>\n",
       "      <td>Gurugram</td>\n",
       "      <td>FinTech</td>\n",
       "      <td>FypMoney is Digital NEO Bank for Teenagers, em...</td>\n",
       "      <td>Kapil Banwari</td>\n",
       "      <td>Liberatha Kallat, Mukesh Yadav, Dinesh Nagpal</td>\n",
       "      <td>2000000</td>\n",
       "      <td>Seed</td>\n",
       "    </tr>\n",
       "    <tr>\n",
       "      <th>7</th>\n",
       "      <td>Qube Health</td>\n",
       "      <td>2016</td>\n",
       "      <td>Mumbai</td>\n",
       "      <td>HealthTech</td>\n",
       "      <td>India's Most Respected Workplace Healthcare Ma...</td>\n",
       "      <td>Gagan Kapur</td>\n",
       "      <td>Inflection Point Ventures</td>\n",
       "      <td>Undisclosed</td>\n",
       "      <td>Pre-series A</td>\n",
       "    </tr>\n",
       "  </tbody>\n",
       "</table>\n",
       "</div>"
      ],
      "text/plain": [
       "     Company_Name  Founded HeadQuarter        Industry  \\\n",
       "0  Unbox Robotics     2019   Bangalore      AI startup   \n",
       "2     Lead School     2012      Mumbai          EdTech   \n",
       "3         Bizongo     2015      Mumbai  B2B E-commerce   \n",
       "4        FypMoney     2021    Gurugram         FinTech   \n",
       "7     Qube Health     2016      Mumbai      HealthTech   \n",
       "\n",
       "                                       About_Company  \\\n",
       "0  Unbox Robotics builds on-demand AI-driven ware...   \n",
       "2  LEAD School offers technology based school tra...   \n",
       "3  Bizongo is a business-to-business online marke...   \n",
       "4  FypMoney is Digital NEO Bank for Teenagers, em...   \n",
       "7  India's Most Respected Workplace Healthcare Ma...   \n",
       "\n",
       "                                  Founders  \\\n",
       "0              Pramod Ghadge, Shahid Memon   \n",
       "2               Smita Deorah, Sumeet Mehta   \n",
       "3  Aniket Deb, Ankit Tomar, Sachin Agrawal   \n",
       "4                            Kapil Banwari   \n",
       "7                              Gagan Kapur   \n",
       "\n",
       "                                        Investor       Amount  Round/Series  \n",
       "0                    BEENEXT, Entrepreneur First      1200000  Pre-series A  \n",
       "2               GSV Ventures, Westbridge Capital     30000000      Series D  \n",
       "3                         CDC Group, IDG Capital     51000000      Series C  \n",
       "4  Liberatha Kallat, Mukesh Yadav, Dinesh Nagpal      2000000          Seed  \n",
       "7                      Inflection Point Ventures  Undisclosed  Pre-series A  "
      ]
     },
     "execution_count": 16,
     "metadata": {},
     "output_type": "execute_result"
    }
   ],
   "source": [
    "data.head()"
   ]
  },
  {
   "cell_type": "code",
   "execution_count": 17,
   "metadata": {},
   "outputs": [
    {
     "name": "stdout",
     "output_type": "stream",
     "text": [
      "<class 'pandas.core.frame.DataFrame'>\n",
      "Index: 745 entries, 0 to 1208\n",
      "Data columns (total 9 columns):\n",
      " #   Column         Non-Null Count  Dtype \n",
      "---  ------         --------------  ----- \n",
      " 0   Company_Name   745 non-null    object\n",
      " 1   Founded        745 non-null    int64 \n",
      " 2   HeadQuarter    745 non-null    object\n",
      " 3   Industry       745 non-null    object\n",
      " 4   About_Company  745 non-null    object\n",
      " 5   Founders       741 non-null    object\n",
      " 6   Investor       745 non-null    object\n",
      " 7   Amount         745 non-null    object\n",
      " 8   Round/Series   745 non-null    object\n",
      "dtypes: int64(1), object(8)\n",
      "memory usage: 58.2+ KB\n"
     ]
    }
   ],
   "source": [
    "data.info()"
   ]
  },
  {
   "cell_type": "code",
   "execution_count": 90,
   "metadata": {},
   "outputs": [
    {
     "data": {
      "text/plain": [
       "Company_Name     False\n",
       "Founded          False\n",
       "HeadQuarter      False\n",
       "Industry         False\n",
       "About_Company    False\n",
       "Founders          True\n",
       "Investor         False\n",
       "Amount           False\n",
       "Round/Series     False\n",
       "dtype: bool"
      ]
     },
     "execution_count": 90,
     "metadata": {},
     "output_type": "execute_result"
    }
   ],
   "source": [
    "#check for missing values still \n",
    "data.isna().any()"
   ]
  },
  {
   "cell_type": "code",
   "execution_count": 92,
   "metadata": {},
   "outputs": [
    {
     "data": {
      "text/plain": [
       "Company_Name     0\n",
       "Founded          0\n",
       "HeadQuarter      0\n",
       "Industry         0\n",
       "About_Company    0\n",
       "Founders         4\n",
       "Investor         0\n",
       "Amount           0\n",
       "Round/Series     0\n",
       "dtype: int64"
      ]
     },
     "execution_count": 92,
     "metadata": {},
     "output_type": "execute_result"
    }
   ],
   "source": [
    "data.isna().sum()"
   ]
  },
  {
   "cell_type": "code",
   "execution_count": 94,
   "metadata": {},
   "outputs": [
    {
     "data": {
      "text/html": [
       "<div>\n",
       "<style scoped>\n",
       "    .dataframe tbody tr th:only-of-type {\n",
       "        vertical-align: middle;\n",
       "    }\n",
       "\n",
       "    .dataframe tbody tr th {\n",
       "        vertical-align: top;\n",
       "    }\n",
       "\n",
       "    .dataframe thead th {\n",
       "        text-align: right;\n",
       "    }\n",
       "</style>\n",
       "<table border=\"1\" class=\"dataframe\">\n",
       "  <thead>\n",
       "    <tr style=\"text-align: right;\">\n",
       "      <th></th>\n",
       "      <th>Company_Name</th>\n",
       "      <th>Founded</th>\n",
       "      <th>HeadQuarter</th>\n",
       "      <th>Industry</th>\n",
       "      <th>About_Company</th>\n",
       "      <th>Founders</th>\n",
       "      <th>Investor</th>\n",
       "      <th>Amount</th>\n",
       "      <th>Round/Series</th>\n",
       "    </tr>\n",
       "  </thead>\n",
       "  <tbody>\n",
       "    <tr>\n",
       "      <th>274</th>\n",
       "      <td>ByteLearn</td>\n",
       "      <td>2021</td>\n",
       "      <td>Noida</td>\n",
       "      <td>E-learning</td>\n",
       "      <td>AI powered teaching assistant for 100 Mn teach...</td>\n",
       "      <td>None</td>\n",
       "      <td>Aditya Singhal, Nishant Sinha</td>\n",
       "      <td>9500000</td>\n",
       "      <td>Seed</td>\n",
       "    </tr>\n",
       "    <tr>\n",
       "      <th>558</th>\n",
       "      <td>The Sleep Company</td>\n",
       "      <td>2019</td>\n",
       "      <td>Mumbai</td>\n",
       "      <td>Consumer Goods</td>\n",
       "      <td>Patent Pending sleep technology developed by a...</td>\n",
       "      <td>None</td>\n",
       "      <td>Fireside Ventures</td>\n",
       "      <td>1000000</td>\n",
       "      <td>Pre-series A</td>\n",
       "    </tr>\n",
       "    <tr>\n",
       "      <th>1095</th>\n",
       "      <td>PredictiVu</td>\n",
       "      <td>2020</td>\n",
       "      <td>Gurugram</td>\n",
       "      <td>Management Consulting</td>\n",
       "      <td>PredictiVu's AI-enabled dashboard integrated w...</td>\n",
       "      <td>None</td>\n",
       "      <td>Kunal Sarkar</td>\n",
       "      <td>1500000</td>\n",
       "      <td>Pre-seed</td>\n",
       "    </tr>\n",
       "    <tr>\n",
       "      <th>1187</th>\n",
       "      <td>NeuroPixel.AI</td>\n",
       "      <td>2020</td>\n",
       "      <td>Bangalore</td>\n",
       "      <td>Deeptech</td>\n",
       "      <td>NeuroPixel.AI Labs is a deep tech start-up tha...</td>\n",
       "      <td>None</td>\n",
       "      <td>Arvind Venugopal Nair, Amritendu Mukherjee</td>\n",
       "      <td>800000</td>\n",
       "      <td>Seed</td>\n",
       "    </tr>\n",
       "  </tbody>\n",
       "</table>\n",
       "</div>"
      ],
      "text/plain": [
       "           Company_Name  Founded HeadQuarter               Industry  \\\n",
       "274           ByteLearn     2021       Noida             E-learning   \n",
       "558   The Sleep Company     2019      Mumbai         Consumer Goods   \n",
       "1095         PredictiVu     2020    Gurugram  Management Consulting   \n",
       "1187      NeuroPixel.AI     2020   Bangalore               Deeptech   \n",
       "\n",
       "                                          About_Company Founders  \\\n",
       "274   AI powered teaching assistant for 100 Mn teach...     None   \n",
       "558   Patent Pending sleep technology developed by a...     None   \n",
       "1095  PredictiVu's AI-enabled dashboard integrated w...     None   \n",
       "1187  NeuroPixel.AI Labs is a deep tech start-up tha...     None   \n",
       "\n",
       "                                        Investor   Amount  Round/Series  \n",
       "274                Aditya Singhal, Nishant Sinha  9500000          Seed  \n",
       "558                            Fireside Ventures  1000000  Pre-series A  \n",
       "1095                                Kunal Sarkar  1500000      Pre-seed  \n",
       "1187  Arvind Venugopal Nair, Amritendu Mukherjee   800000          Seed  "
      ]
     },
     "execution_count": 94,
     "metadata": {},
     "output_type": "execute_result"
    }
   ],
   "source": [
    "#Check if the missing data is there by design or if it will impact analysis of the data as a whole  going forward\n",
    "data_missing = data[data.isna().Founders]\n",
    "data_missing"
   ]
  },
  {
   "cell_type": "code",
   "execution_count": 18,
   "metadata": {},
   "outputs": [
    {
     "data": {
      "text/plain": [
       "Index(['Company_Name', 'Founded', 'HeadQuarter', 'Industry', 'About_Company',\n",
       "       'Founders', 'Investor', 'Amount', 'Round/Series'],\n",
       "      dtype='object')"
      ]
     },
     "execution_count": 18,
     "metadata": {},
     "output_type": "execute_result"
    }
   ],
   "source": [
    "data.columns"
   ]
  },
  {
   "cell_type": "code",
   "execution_count": 19,
   "metadata": {},
   "outputs": [
    {
     "data": {
      "text/plain": [
       "Index(['Company_Name', 'HeadQuarter', 'Industry', 'About_Company', 'Founders',\n",
       "       'Investor', 'Amount', 'Round/Series'],\n",
       "      dtype='object')"
      ]
     },
     "execution_count": 19,
     "metadata": {},
     "output_type": "execute_result"
    }
   ],
   "source": [
    "data.describe(include='object').columns"
   ]
  },
  {
   "cell_type": "code",
   "execution_count": 20,
   "metadata": {},
   "outputs": [
    {
     "data": {
      "text/plain": [
       "Index(['Founded'], dtype='object')"
      ]
     },
     "execution_count": 20,
     "metadata": {},
     "output_type": "execute_result"
    }
   ],
   "source": [
    "data.describe(include='number').columns"
   ]
  },
  {
   "cell_type": "code",
   "execution_count": 21,
   "metadata": {},
   "outputs": [
    {
     "data": {
      "text/plain": [
       "(745, 9)"
      ]
     },
     "execution_count": 21,
     "metadata": {},
     "output_type": "execute_result"
    }
   ],
   "source": [
    "data.shape"
   ]
  },
  {
   "cell_type": "code",
   "execution_count": 22,
   "metadata": {},
   "outputs": [
    {
     "name": "stderr",
     "output_type": "stream",
     "text": [
      "C:\\Users\\MoseS\\AppData\\Local\\Temp\\ipykernel_10996\\553336433.py:3: UserWarning: pandas only supports SQLAlchemy connectable (engine/connection) or database string URI or sqlite3 DBAPI2 connection. Other DBAPI2 objects are not tested. Please consider using SQLAlchemy.\n",
      "  data2 = pd.read_sql(query, connection)\n"
     ]
    }
   ],
   "source": [
    "query = \"SELECT * FROM dbo.LP1_startup_funding2020\"\n",
    "\n",
    "data2 = pd.read_sql(query, connection)"
   ]
  },
  {
   "cell_type": "code",
   "execution_count": 23,
   "metadata": {},
   "outputs": [
    {
     "data": {
      "text/html": [
       "<div>\n",
       "<style scoped>\n",
       "    .dataframe tbody tr th:only-of-type {\n",
       "        vertical-align: middle;\n",
       "    }\n",
       "\n",
       "    .dataframe tbody tr th {\n",
       "        vertical-align: top;\n",
       "    }\n",
       "\n",
       "    .dataframe thead th {\n",
       "        text-align: right;\n",
       "    }\n",
       "</style>\n",
       "<table border=\"1\" class=\"dataframe\">\n",
       "  <thead>\n",
       "    <tr style=\"text-align: right;\">\n",
       "      <th></th>\n",
       "      <th>Company_Brand</th>\n",
       "      <th>Founded</th>\n",
       "      <th>HeadQuarter</th>\n",
       "      <th>Sector</th>\n",
       "      <th>What_it_does</th>\n",
       "      <th>Founders</th>\n",
       "      <th>Investor</th>\n",
       "      <th>Amount</th>\n",
       "      <th>Stage</th>\n",
       "      <th>column10</th>\n",
       "    </tr>\n",
       "  </thead>\n",
       "  <tbody>\n",
       "    <tr>\n",
       "      <th>0</th>\n",
       "      <td>Aqgromalin</td>\n",
       "      <td>2019.0</td>\n",
       "      <td>Chennai</td>\n",
       "      <td>AgriTech</td>\n",
       "      <td>Cultivating Ideas for Profit</td>\n",
       "      <td>Prasanna Manogaran, Bharani C L</td>\n",
       "      <td>Angel investors</td>\n",
       "      <td>200000.0</td>\n",
       "      <td>None</td>\n",
       "      <td>None</td>\n",
       "    </tr>\n",
       "    <tr>\n",
       "      <th>1</th>\n",
       "      <td>Krayonnz</td>\n",
       "      <td>2019.0</td>\n",
       "      <td>Bangalore</td>\n",
       "      <td>EdTech</td>\n",
       "      <td>An academy-guardian-scholar centric ecosystem ...</td>\n",
       "      <td>Saurabh Dixit, Gurudutt Upadhyay</td>\n",
       "      <td>GSF Accelerator</td>\n",
       "      <td>100000.0</td>\n",
       "      <td>Pre-seed</td>\n",
       "      <td>None</td>\n",
       "    </tr>\n",
       "    <tr>\n",
       "      <th>2</th>\n",
       "      <td>PadCare Labs</td>\n",
       "      <td>2018.0</td>\n",
       "      <td>Pune</td>\n",
       "      <td>Hygiene management</td>\n",
       "      <td>Converting bio-hazardous waste to harmless waste</td>\n",
       "      <td>Ajinkya Dhariya</td>\n",
       "      <td>Venture Center</td>\n",
       "      <td>NaN</td>\n",
       "      <td>Pre-seed</td>\n",
       "      <td>None</td>\n",
       "    </tr>\n",
       "    <tr>\n",
       "      <th>3</th>\n",
       "      <td>NCOME</td>\n",
       "      <td>2020.0</td>\n",
       "      <td>New Delhi</td>\n",
       "      <td>Escrow</td>\n",
       "      <td>Escrow-as-a-service platform</td>\n",
       "      <td>Ritesh Tiwari</td>\n",
       "      <td>Venture Catalysts, PointOne Capital</td>\n",
       "      <td>400000.0</td>\n",
       "      <td>None</td>\n",
       "      <td>None</td>\n",
       "    </tr>\n",
       "    <tr>\n",
       "      <th>4</th>\n",
       "      <td>Gramophone</td>\n",
       "      <td>2016.0</td>\n",
       "      <td>Indore</td>\n",
       "      <td>AgriTech</td>\n",
       "      <td>Gramophone is an AgTech platform enabling acce...</td>\n",
       "      <td>Ashish Rajan Singh, Harshit Gupta, Nishant Mah...</td>\n",
       "      <td>Siana Capital Management, Info Edge</td>\n",
       "      <td>340000.0</td>\n",
       "      <td>None</td>\n",
       "      <td>None</td>\n",
       "    </tr>\n",
       "  </tbody>\n",
       "</table>\n",
       "</div>"
      ],
      "text/plain": [
       "  Company_Brand  Founded HeadQuarter              Sector  \\\n",
       "0    Aqgromalin   2019.0     Chennai            AgriTech   \n",
       "1      Krayonnz   2019.0   Bangalore              EdTech   \n",
       "2  PadCare Labs   2018.0        Pune  Hygiene management   \n",
       "3         NCOME   2020.0   New Delhi              Escrow   \n",
       "4    Gramophone   2016.0      Indore            AgriTech   \n",
       "\n",
       "                                        What_it_does  \\\n",
       "0                       Cultivating Ideas for Profit   \n",
       "1  An academy-guardian-scholar centric ecosystem ...   \n",
       "2   Converting bio-hazardous waste to harmless waste   \n",
       "3                       Escrow-as-a-service platform   \n",
       "4  Gramophone is an AgTech platform enabling acce...   \n",
       "\n",
       "                                            Founders  \\\n",
       "0                    Prasanna Manogaran, Bharani C L   \n",
       "1                   Saurabh Dixit, Gurudutt Upadhyay   \n",
       "2                                    Ajinkya Dhariya   \n",
       "3                                      Ritesh Tiwari   \n",
       "4  Ashish Rajan Singh, Harshit Gupta, Nishant Mah...   \n",
       "\n",
       "                              Investor    Amount     Stage column10  \n",
       "0                      Angel investors  200000.0      None     None  \n",
       "1                      GSF Accelerator  100000.0  Pre-seed     None  \n",
       "2                       Venture Center       NaN  Pre-seed     None  \n",
       "3  Venture Catalysts, PointOne Capital  400000.0      None     None  \n",
       "4  Siana Capital Management, Info Edge  340000.0      None     None  "
      ]
     },
     "execution_count": 23,
     "metadata": {},
     "output_type": "execute_result"
    }
   ],
   "source": [
    "data2.head()"
   ]
  },
  {
   "cell_type": "code",
   "execution_count": 24,
   "metadata": {},
   "outputs": [
    {
     "name": "stdout",
     "output_type": "stream",
     "text": [
      "<class 'pandas.core.frame.DataFrame'>\n",
      "RangeIndex: 1055 entries, 0 to 1054\n",
      "Data columns (total 10 columns):\n",
      " #   Column         Non-Null Count  Dtype  \n",
      "---  ------         --------------  -----  \n",
      " 0   Company_Brand  1055 non-null   object \n",
      " 1   Founded        842 non-null    float64\n",
      " 2   HeadQuarter    961 non-null    object \n",
      " 3   Sector         1042 non-null   object \n",
      " 4   What_it_does   1055 non-null   object \n",
      " 5   Founders       1043 non-null   object \n",
      " 6   Investor       1017 non-null   object \n",
      " 7   Amount         801 non-null    float64\n",
      " 8   Stage          591 non-null    object \n",
      " 9   column10       2 non-null      object \n",
      "dtypes: float64(2), object(8)\n",
      "memory usage: 82.6+ KB\n"
     ]
    }
   ],
   "source": [
    "data2.info()"
   ]
  },
  {
   "cell_type": "code",
   "execution_count": 25,
   "metadata": {},
   "outputs": [
    {
     "name": "stderr",
     "output_type": "stream",
     "text": [
      "C:\\Users\\MoseS\\AppData\\Local\\Temp\\ipykernel_10996\\3185913130.py:8: UserWarning: pandas only supports SQLAlchemy connectable (engine/connection) or database string URI or sqlite3 DBAPI2 connection. Other DBAPI2 objects are not tested. Please consider using SQLAlchemy.\n",
      "  data2 = pd.read_sql(query, connection)\n"
     ]
    },
    {
     "data": {
      "text/html": [
       "<div>\n",
       "<style scoped>\n",
       "    .dataframe tbody tr th:only-of-type {\n",
       "        vertical-align: middle;\n",
       "    }\n",
       "\n",
       "    .dataframe tbody tr th {\n",
       "        vertical-align: top;\n",
       "    }\n",
       "\n",
       "    .dataframe thead th {\n",
       "        text-align: right;\n",
       "    }\n",
       "</style>\n",
       "<table border=\"1\" class=\"dataframe\">\n",
       "  <thead>\n",
       "    <tr style=\"text-align: right;\">\n",
       "      <th></th>\n",
       "      <th>Company_Name</th>\n",
       "      <th>Founded</th>\n",
       "      <th>HeadQuarter</th>\n",
       "      <th>Industry</th>\n",
       "      <th>About_Company</th>\n",
       "      <th>Founders</th>\n",
       "      <th>Investor</th>\n",
       "      <th>Amount</th>\n",
       "      <th>Round/Series</th>\n",
       "    </tr>\n",
       "  </thead>\n",
       "  <tbody>\n",
       "    <tr>\n",
       "      <th>0</th>\n",
       "      <td>Aqgromalin</td>\n",
       "      <td>2019.0</td>\n",
       "      <td>Chennai</td>\n",
       "      <td>AgriTech</td>\n",
       "      <td>Cultivating Ideas for Profit</td>\n",
       "      <td>Prasanna Manogaran, Bharani C L</td>\n",
       "      <td>Angel investors</td>\n",
       "      <td>200000.0</td>\n",
       "      <td>None</td>\n",
       "    </tr>\n",
       "    <tr>\n",
       "      <th>1</th>\n",
       "      <td>Krayonnz</td>\n",
       "      <td>2019.0</td>\n",
       "      <td>Bangalore</td>\n",
       "      <td>EdTech</td>\n",
       "      <td>An academy-guardian-scholar centric ecosystem ...</td>\n",
       "      <td>Saurabh Dixit, Gurudutt Upadhyay</td>\n",
       "      <td>GSF Accelerator</td>\n",
       "      <td>100000.0</td>\n",
       "      <td>Pre-seed</td>\n",
       "    </tr>\n",
       "    <tr>\n",
       "      <th>2</th>\n",
       "      <td>PadCare Labs</td>\n",
       "      <td>2018.0</td>\n",
       "      <td>Pune</td>\n",
       "      <td>Hygiene management</td>\n",
       "      <td>Converting bio-hazardous waste to harmless waste</td>\n",
       "      <td>Ajinkya Dhariya</td>\n",
       "      <td>Venture Center</td>\n",
       "      <td>NaN</td>\n",
       "      <td>Pre-seed</td>\n",
       "    </tr>\n",
       "    <tr>\n",
       "      <th>3</th>\n",
       "      <td>NCOME</td>\n",
       "      <td>2020.0</td>\n",
       "      <td>New Delhi</td>\n",
       "      <td>Escrow</td>\n",
       "      <td>Escrow-as-a-service platform</td>\n",
       "      <td>Ritesh Tiwari</td>\n",
       "      <td>Venture Catalysts, PointOne Capital</td>\n",
       "      <td>400000.0</td>\n",
       "      <td>None</td>\n",
       "    </tr>\n",
       "    <tr>\n",
       "      <th>4</th>\n",
       "      <td>Gramophone</td>\n",
       "      <td>2016.0</td>\n",
       "      <td>Indore</td>\n",
       "      <td>AgriTech</td>\n",
       "      <td>Gramophone is an AgTech platform enabling acce...</td>\n",
       "      <td>Ashish Rajan Singh, Harshit Gupta, Nishant Mah...</td>\n",
       "      <td>Siana Capital Management, Info Edge</td>\n",
       "      <td>340000.0</td>\n",
       "      <td>None</td>\n",
       "    </tr>\n",
       "  </tbody>\n",
       "</table>\n",
       "</div>"
      ],
      "text/plain": [
       "   Company_Name  Founded HeadQuarter            Industry  \\\n",
       "0    Aqgromalin   2019.0     Chennai            AgriTech   \n",
       "1      Krayonnz   2019.0   Bangalore              EdTech   \n",
       "2  PadCare Labs   2018.0        Pune  Hygiene management   \n",
       "3         NCOME   2020.0   New Delhi              Escrow   \n",
       "4    Gramophone   2016.0      Indore            AgriTech   \n",
       "\n",
       "                                       About_Company  \\\n",
       "0                       Cultivating Ideas for Profit   \n",
       "1  An academy-guardian-scholar centric ecosystem ...   \n",
       "2   Converting bio-hazardous waste to harmless waste   \n",
       "3                       Escrow-as-a-service platform   \n",
       "4  Gramophone is an AgTech platform enabling acce...   \n",
       "\n",
       "                                            Founders  \\\n",
       "0                    Prasanna Manogaran, Bharani C L   \n",
       "1                   Saurabh Dixit, Gurudutt Upadhyay   \n",
       "2                                    Ajinkya Dhariya   \n",
       "3                                      Ritesh Tiwari   \n",
       "4  Ashish Rajan Singh, Harshit Gupta, Nishant Mah...   \n",
       "\n",
       "                              Investor    Amount Round/Series  \n",
       "0                      Angel investors  200000.0         None  \n",
       "1                      GSF Accelerator  100000.0     Pre-seed  \n",
       "2                       Venture Center       NaN     Pre-seed  \n",
       "3  Venture Catalysts, PointOne Capital  400000.0         None  \n",
       "4  Siana Capital Management, Info Edge  340000.0         None  "
      ]
     },
     "execution_count": 25,
     "metadata": {},
     "output_type": "execute_result"
    }
   ],
   "source": [
    "#Renaming the columns to have one title and not different titles meaning the same thing\n",
    "data2 = {\n",
    "    'Company_Brand': [0],\n",
    "    'Sector': [3],\n",
    "    'What_it_does': [4],\n",
    "    'Stage': [8]\n",
    "}\n",
    "data2 = pd.read_sql(query, connection)\n",
    "\n",
    "# Renaming multiple columns\n",
    "data2.rename(columns={\n",
    "    'Company_Brand': 'Company_Name',\n",
    "    'Sector': 'Industry',\n",
    "    'What_it_does': 'About_Company',\n",
    "    'Stage': 'Round/Series'\n",
    "}, inplace=True)\n",
    "data2 = data2.drop('column10', axis=1)\n",
    "data2.head()\n"
   ]
  },
  {
   "cell_type": "code",
   "execution_count": 26,
   "metadata": {},
   "outputs": [
    {
     "name": "stdout",
     "output_type": "stream",
     "text": [
      "<class 'pandas.core.frame.DataFrame'>\n",
      "Index: 353 entries, 1 to 1054\n",
      "Data columns (total 9 columns):\n",
      " #   Column         Non-Null Count  Dtype  \n",
      "---  ------         --------------  -----  \n",
      " 0   Company_Name   353 non-null    object \n",
      " 1   Founded        353 non-null    float64\n",
      " 2   HeadQuarter    353 non-null    object \n",
      " 3   Industry       349 non-null    object \n",
      " 4   About_Company  353 non-null    object \n",
      " 5   Founders       352 non-null    object \n",
      " 6   Investor       353 non-null    object \n",
      " 7   Amount         353 non-null    float64\n",
      " 8   Round/Series   353 non-null    object \n",
      "dtypes: float64(2), object(7)\n",
      "memory usage: 27.6+ KB\n"
     ]
    }
   ],
   "source": [
    "# Dropping the Null rows, Assuming 'data2' is your DataFrame\n",
    "data2 = data2.dropna(subset=['Founded', 'HeadQuarter', 'Investor', 'Amount', 'Round/Series'])\n",
    "data2.info()\n"
   ]
  },
  {
   "cell_type": "code",
   "execution_count": 27,
   "metadata": {},
   "outputs": [
    {
     "data": {
      "text/plain": [
       "1       2019.0\n",
       "5       2019.0\n",
       "6       2008.0\n",
       "8       2015.0\n",
       "9       2017.0\n",
       "         ...  \n",
       "1039    2014.0\n",
       "1048    2016.0\n",
       "1049    2017.0\n",
       "1053    2015.0\n",
       "1054    2017.0\n",
       "Name: Founded, Length: 353, dtype: float64"
      ]
     },
     "execution_count": 27,
     "metadata": {},
     "output_type": "execute_result"
    }
   ],
   "source": [
    "data2[\"Founded\"]"
   ]
  },
  {
   "cell_type": "code",
   "execution_count": 28,
   "metadata": {},
   "outputs": [
    {
     "data": {
      "text/plain": [
       "1       2019\n",
       "5       2019\n",
       "6       2008\n",
       "8       2015\n",
       "9       2017\n",
       "        ... \n",
       "1039    2014\n",
       "1048    2016\n",
       "1049    2017\n",
       "1053    2015\n",
       "1054    2017\n",
       "Name: Founded, Length: 353, dtype: int64"
      ]
     },
     "execution_count": 28,
     "metadata": {},
     "output_type": "execute_result"
    }
   ],
   "source": [
    "# Writing our years in whole numbers\n",
    "data2['Founded'] = data2['Founded'].astype(int)\n",
    "data2[\"Founded\"]"
   ]
  },
  {
   "cell_type": "code",
   "execution_count": 29,
   "metadata": {},
   "outputs": [
    {
     "data": {
      "text/plain": [
       "1         100000.0\n",
       "5         600000.0\n",
       "6         600000.0\n",
       "8       45000000.0\n",
       "9        1000000.0\n",
       "           ...    \n",
       "1039     3400000.0\n",
       "1048    14700000.0\n",
       "1049     1000000.0\n",
       "1053     8043000.0\n",
       "1054     9000000.0\n",
       "Name: Amount, Length: 353, dtype: float64"
      ]
     },
     "execution_count": 29,
     "metadata": {},
     "output_type": "execute_result"
    }
   ],
   "source": [
    "data2[\"Amount\"]"
   ]
  },
  {
   "cell_type": "code",
   "execution_count": 30,
   "metadata": {},
   "outputs": [
    {
     "data": {
      "text/plain": [
       "1         100000\n",
       "5         600000\n",
       "6         600000\n",
       "8       45000000\n",
       "9        1000000\n",
       "          ...   \n",
       "1039     3400000\n",
       "1048    14700000\n",
       "1049     1000000\n",
       "1053     8043000\n",
       "1054     9000000\n",
       "Name: Amount, Length: 353, dtype: int64"
      ]
     },
     "execution_count": 30,
     "metadata": {},
     "output_type": "execute_result"
    }
   ],
   "source": [
    "# Writing our Amount without the decimal point in whole numbers\n",
    "data2['Amount'] = data2['Amount'].astype(int)\n",
    "data2[\"Amount\"]\n"
   ]
  },
  {
   "cell_type": "code",
   "execution_count": 31,
   "metadata": {},
   "outputs": [
    {
     "data": {
      "text/html": [
       "<div>\n",
       "<style scoped>\n",
       "    .dataframe tbody tr th:only-of-type {\n",
       "        vertical-align: middle;\n",
       "    }\n",
       "\n",
       "    .dataframe tbody tr th {\n",
       "        vertical-align: top;\n",
       "    }\n",
       "\n",
       "    .dataframe thead th {\n",
       "        text-align: right;\n",
       "    }\n",
       "</style>\n",
       "<table border=\"1\" class=\"dataframe\">\n",
       "  <thead>\n",
       "    <tr style=\"text-align: right;\">\n",
       "      <th></th>\n",
       "      <th>Company_Name</th>\n",
       "      <th>Founded</th>\n",
       "      <th>HeadQuarter</th>\n",
       "      <th>Industry</th>\n",
       "      <th>About_Company</th>\n",
       "      <th>Founders</th>\n",
       "      <th>Investor</th>\n",
       "      <th>Amount</th>\n",
       "      <th>Round/Series</th>\n",
       "    </tr>\n",
       "  </thead>\n",
       "  <tbody>\n",
       "    <tr>\n",
       "      <th>1</th>\n",
       "      <td>Krayonnz</td>\n",
       "      <td>2019</td>\n",
       "      <td>Bangalore</td>\n",
       "      <td>EdTech</td>\n",
       "      <td>An academy-guardian-scholar centric ecosystem ...</td>\n",
       "      <td>Saurabh Dixit, Gurudutt Upadhyay</td>\n",
       "      <td>GSF Accelerator</td>\n",
       "      <td>100000</td>\n",
       "      <td>Pre-seed</td>\n",
       "    </tr>\n",
       "    <tr>\n",
       "      <th>5</th>\n",
       "      <td>qZense</td>\n",
       "      <td>2019</td>\n",
       "      <td>Bangalore</td>\n",
       "      <td>AgriTech</td>\n",
       "      <td>qZense Labs is building the next-generation Io...</td>\n",
       "      <td>Rubal Chib, Dr Srishti Batra</td>\n",
       "      <td>Venture Catalysts, 9Unicorns Accelerator Fund</td>\n",
       "      <td>600000</td>\n",
       "      <td>Seed</td>\n",
       "    </tr>\n",
       "    <tr>\n",
       "      <th>6</th>\n",
       "      <td>MyClassboard</td>\n",
       "      <td>2008</td>\n",
       "      <td>Hyderabad</td>\n",
       "      <td>EdTech</td>\n",
       "      <td>MyClassboard is a full-fledged School / Colleg...</td>\n",
       "      <td>Ajay Sakhamuri</td>\n",
       "      <td>ICICI Bank.</td>\n",
       "      <td>600000</td>\n",
       "      <td>Pre-series A</td>\n",
       "    </tr>\n",
       "    <tr>\n",
       "      <th>8</th>\n",
       "      <td>Rupeek</td>\n",
       "      <td>2015</td>\n",
       "      <td>Bangalore</td>\n",
       "      <td>FinTech</td>\n",
       "      <td>Rupeek is an online lending platform that spec...</td>\n",
       "      <td>Amar Prabhu, Ashwin Soni, Sumit Maniyar</td>\n",
       "      <td>KB Investment, Bertelsmann India Investments</td>\n",
       "      <td>45000000</td>\n",
       "      <td>Series C</td>\n",
       "    </tr>\n",
       "    <tr>\n",
       "      <th>9</th>\n",
       "      <td>Gig India</td>\n",
       "      <td>2017</td>\n",
       "      <td>Pune</td>\n",
       "      <td>Crowdsourcing</td>\n",
       "      <td>GigIndia is a marketplace that provides on-dem...</td>\n",
       "      <td>Aditya Shirole, Sahil Sharma</td>\n",
       "      <td>Shantanu Deshpande, Subramaniam Ramadorai</td>\n",
       "      <td>1000000</td>\n",
       "      <td>Pre-series A</td>\n",
       "    </tr>\n",
       "  </tbody>\n",
       "</table>\n",
       "</div>"
      ],
      "text/plain": [
       "   Company_Name  Founded HeadQuarter       Industry  \\\n",
       "1      Krayonnz     2019   Bangalore         EdTech   \n",
       "5        qZense     2019   Bangalore       AgriTech   \n",
       "6  MyClassboard     2008   Hyderabad         EdTech   \n",
       "8        Rupeek     2015   Bangalore        FinTech   \n",
       "9     Gig India     2017        Pune  Crowdsourcing   \n",
       "\n",
       "                                       About_Company  \\\n",
       "1  An academy-guardian-scholar centric ecosystem ...   \n",
       "5  qZense Labs is building the next-generation Io...   \n",
       "6  MyClassboard is a full-fledged School / Colleg...   \n",
       "8  Rupeek is an online lending platform that spec...   \n",
       "9  GigIndia is a marketplace that provides on-dem...   \n",
       "\n",
       "                                  Founders  \\\n",
       "1         Saurabh Dixit, Gurudutt Upadhyay   \n",
       "5             Rubal Chib, Dr Srishti Batra   \n",
       "6                           Ajay Sakhamuri   \n",
       "8  Amar Prabhu, Ashwin Soni, Sumit Maniyar   \n",
       "9             Aditya Shirole, Sahil Sharma   \n",
       "\n",
       "                                        Investor    Amount  Round/Series  \n",
       "1                                GSF Accelerator    100000      Pre-seed  \n",
       "5  Venture Catalysts, 9Unicorns Accelerator Fund    600000          Seed  \n",
       "6                                    ICICI Bank.    600000  Pre-series A  \n",
       "8   KB Investment, Bertelsmann India Investments  45000000      Series C  \n",
       "9      Shantanu Deshpande, Subramaniam Ramadorai   1000000  Pre-series A  "
      ]
     },
     "execution_count": 31,
     "metadata": {},
     "output_type": "execute_result"
    }
   ],
   "source": [
    "data2.head()"
   ]
  },
  {
   "cell_type": "code",
   "execution_count": 32,
   "metadata": {},
   "outputs": [
    {
     "name": "stdout",
     "output_type": "stream",
     "text": [
      "<class 'pandas.core.frame.DataFrame'>\n",
      "Index: 353 entries, 1 to 1054\n",
      "Data columns (total 9 columns):\n",
      " #   Column         Non-Null Count  Dtype \n",
      "---  ------         --------------  ----- \n",
      " 0   Company_Name   353 non-null    object\n",
      " 1   Founded        353 non-null    int64 \n",
      " 2   HeadQuarter    353 non-null    object\n",
      " 3   Industry       349 non-null    object\n",
      " 4   About_Company  353 non-null    object\n",
      " 5   Founders       352 non-null    object\n",
      " 6   Investor       353 non-null    object\n",
      " 7   Amount         353 non-null    int64 \n",
      " 8   Round/Series   353 non-null    object\n",
      "dtypes: int64(2), object(7)\n",
      "memory usage: 27.6+ KB\n"
     ]
    }
   ],
   "source": [
    "data2.info()"
   ]
  },
  {
   "cell_type": "code",
   "execution_count": 95,
   "metadata": {},
   "outputs": [
    {
     "data": {
      "text/plain": [
       "Company_Name     False\n",
       "Founded          False\n",
       "HeadQuarter      False\n",
       "Industry          True\n",
       "About_Company    False\n",
       "Founders          True\n",
       "Investor         False\n",
       "Amount           False\n",
       "Round/Series     False\n",
       "dtype: bool"
      ]
     },
     "execution_count": 95,
     "metadata": {},
     "output_type": "execute_result"
    }
   ],
   "source": [
    " #check for missing values still \n",
    "data2.isna().any()"
   ]
  },
  {
   "cell_type": "code",
   "execution_count": 96,
   "metadata": {},
   "outputs": [
    {
     "data": {
      "text/plain": [
       "Company_Name     0\n",
       "Founded          0\n",
       "HeadQuarter      0\n",
       "Industry         4\n",
       "About_Company    0\n",
       "Founders         1\n",
       "Investor         0\n",
       "Amount           0\n",
       "Round/Series     0\n",
       "dtype: int64"
      ]
     },
     "execution_count": 96,
     "metadata": {},
     "output_type": "execute_result"
    }
   ],
   "source": [
    "#The data missing in the below columns is non-numerical so keeping it will not affectany further computation\n",
    "data2.isna().sum()"
   ]
  },
  {
   "cell_type": "code",
   "execution_count": 33,
   "metadata": {},
   "outputs": [
    {
     "data": {
      "text/plain": [
       "Index(['Company_Name', 'Founded', 'HeadQuarter', 'Industry', 'About_Company',\n",
       "       'Founders', 'Investor', 'Amount', 'Round/Series'],\n",
       "      dtype='object')"
      ]
     },
     "execution_count": 33,
     "metadata": {},
     "output_type": "execute_result"
    }
   ],
   "source": [
    "data2.columns"
   ]
  },
  {
   "cell_type": "code",
   "execution_count": 34,
   "metadata": {},
   "outputs": [
    {
     "data": {
      "text/plain": [
       "Index(['Company_Name', 'HeadQuarter', 'Industry', 'About_Company', 'Founders',\n",
       "       'Investor', 'Round/Series'],\n",
       "      dtype='object')"
      ]
     },
     "execution_count": 34,
     "metadata": {},
     "output_type": "execute_result"
    }
   ],
   "source": [
    "data2.describe(include='object').columns"
   ]
  },
  {
   "cell_type": "code",
   "execution_count": 35,
   "metadata": {},
   "outputs": [
    {
     "data": {
      "text/plain": [
       "Index(['Founded', 'Amount'], dtype='object')"
      ]
     },
     "execution_count": 35,
     "metadata": {},
     "output_type": "execute_result"
    }
   ],
   "source": [
    "data2.describe(include='number').columns"
   ]
  },
  {
   "cell_type": "code",
   "execution_count": 36,
   "metadata": {},
   "outputs": [
    {
     "data": {
      "text/plain": [
       "(353, 9)"
      ]
     },
     "execution_count": 36,
     "metadata": {},
     "output_type": "execute_result"
    }
   ],
   "source": [
    "data2.shape "
   ]
  },
  {
   "cell_type": "code",
   "execution_count": 37,
   "metadata": {},
   "outputs": [],
   "source": [
    "import os\n",
    "import pandas as pd\n",
    "file_path = \"C:\\\\Users\\\\MoseS\\\\Desktop\\\\LP 1 Project\\\\startup_funding2019.csv\"\n",
    "data3 = pd.read_csv(file_path)\n"
   ]
  },
  {
   "cell_type": "code",
   "execution_count": 38,
   "metadata": {},
   "outputs": [
    {
     "data": {
      "text/html": [
       "<div>\n",
       "<style scoped>\n",
       "    .dataframe tbody tr th:only-of-type {\n",
       "        vertical-align: middle;\n",
       "    }\n",
       "\n",
       "    .dataframe tbody tr th {\n",
       "        vertical-align: top;\n",
       "    }\n",
       "\n",
       "    .dataframe thead th {\n",
       "        text-align: right;\n",
       "    }\n",
       "</style>\n",
       "<table border=\"1\" class=\"dataframe\">\n",
       "  <thead>\n",
       "    <tr style=\"text-align: right;\">\n",
       "      <th></th>\n",
       "      <th>Company/Brand</th>\n",
       "      <th>Founded</th>\n",
       "      <th>HeadQuarter</th>\n",
       "      <th>Sector</th>\n",
       "      <th>What it does</th>\n",
       "      <th>Founders</th>\n",
       "      <th>Investor</th>\n",
       "      <th>Amount($)</th>\n",
       "      <th>Stage</th>\n",
       "    </tr>\n",
       "  </thead>\n",
       "  <tbody>\n",
       "    <tr>\n",
       "      <th>0</th>\n",
       "      <td>Bombay Shaving</td>\n",
       "      <td>NaN</td>\n",
       "      <td>NaN</td>\n",
       "      <td>Ecommerce</td>\n",
       "      <td>Provides a range of male grooming products</td>\n",
       "      <td>Shantanu Deshpande</td>\n",
       "      <td>Sixth Sense Ventures</td>\n",
       "      <td>$6,300,000</td>\n",
       "      <td>NaN</td>\n",
       "    </tr>\n",
       "    <tr>\n",
       "      <th>1</th>\n",
       "      <td>Ruangguru</td>\n",
       "      <td>2014.0</td>\n",
       "      <td>Mumbai</td>\n",
       "      <td>Edtech</td>\n",
       "      <td>A learning platform that provides topic-based ...</td>\n",
       "      <td>Adamas Belva Syah Devara, Iman Usman.</td>\n",
       "      <td>General Atlantic</td>\n",
       "      <td>$150,000,000</td>\n",
       "      <td>Series C</td>\n",
       "    </tr>\n",
       "    <tr>\n",
       "      <th>2</th>\n",
       "      <td>Eduisfun</td>\n",
       "      <td>NaN</td>\n",
       "      <td>Mumbai</td>\n",
       "      <td>Edtech</td>\n",
       "      <td>It aims to make learning fun via games.</td>\n",
       "      <td>Jatin Solanki</td>\n",
       "      <td>Deepak Parekh, Amitabh Bachchan, Piyush Pandey</td>\n",
       "      <td>$28,000,000</td>\n",
       "      <td>Fresh funding</td>\n",
       "    </tr>\n",
       "    <tr>\n",
       "      <th>3</th>\n",
       "      <td>HomeLane</td>\n",
       "      <td>2014.0</td>\n",
       "      <td>Chennai</td>\n",
       "      <td>Interior design</td>\n",
       "      <td>Provides interior designing solutions</td>\n",
       "      <td>Srikanth Iyer, Rama Harinath</td>\n",
       "      <td>Evolvence India Fund (EIF), Pidilite Group, FJ...</td>\n",
       "      <td>$30,000,000</td>\n",
       "      <td>Series D</td>\n",
       "    </tr>\n",
       "    <tr>\n",
       "      <th>4</th>\n",
       "      <td>Nu Genes</td>\n",
       "      <td>2004.0</td>\n",
       "      <td>Telangana</td>\n",
       "      <td>AgriTech</td>\n",
       "      <td>It is a seed company engaged in production, pr...</td>\n",
       "      <td>Narayana Reddy Punyala</td>\n",
       "      <td>Innovation in Food and Agriculture (IFA)</td>\n",
       "      <td>$6,000,000</td>\n",
       "      <td>NaN</td>\n",
       "    </tr>\n",
       "  </tbody>\n",
       "</table>\n",
       "</div>"
      ],
      "text/plain": [
       "    Company/Brand  Founded HeadQuarter           Sector  \\\n",
       "0  Bombay Shaving      NaN         NaN        Ecommerce   \n",
       "1       Ruangguru   2014.0      Mumbai           Edtech   \n",
       "2        Eduisfun      NaN      Mumbai           Edtech   \n",
       "3        HomeLane   2014.0     Chennai  Interior design   \n",
       "4        Nu Genes   2004.0   Telangana         AgriTech   \n",
       "\n",
       "                                        What it does  \\\n",
       "0         Provides a range of male grooming products   \n",
       "1  A learning platform that provides topic-based ...   \n",
       "2            It aims to make learning fun via games.   \n",
       "3              Provides interior designing solutions   \n",
       "4  It is a seed company engaged in production, pr...   \n",
       "\n",
       "                                Founders  \\\n",
       "0                     Shantanu Deshpande   \n",
       "1  Adamas Belva Syah Devara, Iman Usman.   \n",
       "2                          Jatin Solanki   \n",
       "3           Srikanth Iyer, Rama Harinath   \n",
       "4                 Narayana Reddy Punyala   \n",
       "\n",
       "                                            Investor     Amount($)  \\\n",
       "0                               Sixth Sense Ventures    $6,300,000   \n",
       "1                                   General Atlantic  $150,000,000   \n",
       "2     Deepak Parekh, Amitabh Bachchan, Piyush Pandey   $28,000,000   \n",
       "3  Evolvence India Fund (EIF), Pidilite Group, FJ...   $30,000,000   \n",
       "4           Innovation in Food and Agriculture (IFA)    $6,000,000   \n",
       "\n",
       "           Stage  \n",
       "0            NaN  \n",
       "1       Series C  \n",
       "2  Fresh funding  \n",
       "3       Series D  \n",
       "4            NaN  "
      ]
     },
     "execution_count": 38,
     "metadata": {},
     "output_type": "execute_result"
    }
   ],
   "source": [
    "data3.head()"
   ]
  },
  {
   "cell_type": "code",
   "execution_count": 39,
   "metadata": {},
   "outputs": [
    {
     "name": "stdout",
     "output_type": "stream",
     "text": [
      "<class 'pandas.core.frame.DataFrame'>\n",
      "RangeIndex: 89 entries, 0 to 88\n",
      "Data columns (total 9 columns):\n",
      " #   Column         Non-Null Count  Dtype  \n",
      "---  ------         --------------  -----  \n",
      " 0   Company/Brand  89 non-null     object \n",
      " 1   Founded        60 non-null     float64\n",
      " 2   HeadQuarter    70 non-null     object \n",
      " 3   Sector         84 non-null     object \n",
      " 4   What it does   89 non-null     object \n",
      " 5   Founders       86 non-null     object \n",
      " 6   Investor       89 non-null     object \n",
      " 7   Amount($)      89 non-null     object \n",
      " 8   Stage          43 non-null     object \n",
      "dtypes: float64(1), object(8)\n",
      "memory usage: 6.4+ KB\n"
     ]
    }
   ],
   "source": [
    "data3.info()"
   ]
  },
  {
   "cell_type": "code",
   "execution_count": 40,
   "metadata": {},
   "outputs": [
    {
     "data": {
      "text/html": [
       "<div>\n",
       "<style scoped>\n",
       "    .dataframe tbody tr th:only-of-type {\n",
       "        vertical-align: middle;\n",
       "    }\n",
       "\n",
       "    .dataframe tbody tr th {\n",
       "        vertical-align: top;\n",
       "    }\n",
       "\n",
       "    .dataframe thead th {\n",
       "        text-align: right;\n",
       "    }\n",
       "</style>\n",
       "<table border=\"1\" class=\"dataframe\">\n",
       "  <thead>\n",
       "    <tr style=\"text-align: right;\">\n",
       "      <th></th>\n",
       "      <th>Company_Name</th>\n",
       "      <th>Founded</th>\n",
       "      <th>HeadQuarter</th>\n",
       "      <th>Industry</th>\n",
       "      <th>About_Company</th>\n",
       "      <th>Founders</th>\n",
       "      <th>Investor</th>\n",
       "      <th>Amount</th>\n",
       "      <th>Round/Series</th>\n",
       "    </tr>\n",
       "  </thead>\n",
       "  <tbody>\n",
       "    <tr>\n",
       "      <th>0</th>\n",
       "      <td>Bombay Shaving</td>\n",
       "      <td>NaN</td>\n",
       "      <td>NaN</td>\n",
       "      <td>Ecommerce</td>\n",
       "      <td>Provides a range of male grooming products</td>\n",
       "      <td>Shantanu Deshpande</td>\n",
       "      <td>Sixth Sense Ventures</td>\n",
       "      <td>$6,300,000</td>\n",
       "      <td>NaN</td>\n",
       "    </tr>\n",
       "    <tr>\n",
       "      <th>1</th>\n",
       "      <td>Ruangguru</td>\n",
       "      <td>2014.0</td>\n",
       "      <td>Mumbai</td>\n",
       "      <td>Edtech</td>\n",
       "      <td>A learning platform that provides topic-based ...</td>\n",
       "      <td>Adamas Belva Syah Devara, Iman Usman.</td>\n",
       "      <td>General Atlantic</td>\n",
       "      <td>$150,000,000</td>\n",
       "      <td>Series C</td>\n",
       "    </tr>\n",
       "    <tr>\n",
       "      <th>2</th>\n",
       "      <td>Eduisfun</td>\n",
       "      <td>NaN</td>\n",
       "      <td>Mumbai</td>\n",
       "      <td>Edtech</td>\n",
       "      <td>It aims to make learning fun via games.</td>\n",
       "      <td>Jatin Solanki</td>\n",
       "      <td>Deepak Parekh, Amitabh Bachchan, Piyush Pandey</td>\n",
       "      <td>$28,000,000</td>\n",
       "      <td>Fresh funding</td>\n",
       "    </tr>\n",
       "    <tr>\n",
       "      <th>3</th>\n",
       "      <td>HomeLane</td>\n",
       "      <td>2014.0</td>\n",
       "      <td>Chennai</td>\n",
       "      <td>Interior design</td>\n",
       "      <td>Provides interior designing solutions</td>\n",
       "      <td>Srikanth Iyer, Rama Harinath</td>\n",
       "      <td>Evolvence India Fund (EIF), Pidilite Group, FJ...</td>\n",
       "      <td>$30,000,000</td>\n",
       "      <td>Series D</td>\n",
       "    </tr>\n",
       "    <tr>\n",
       "      <th>4</th>\n",
       "      <td>Nu Genes</td>\n",
       "      <td>2004.0</td>\n",
       "      <td>Telangana</td>\n",
       "      <td>AgriTech</td>\n",
       "      <td>It is a seed company engaged in production, pr...</td>\n",
       "      <td>Narayana Reddy Punyala</td>\n",
       "      <td>Innovation in Food and Agriculture (IFA)</td>\n",
       "      <td>$6,000,000</td>\n",
       "      <td>NaN</td>\n",
       "    </tr>\n",
       "  </tbody>\n",
       "</table>\n",
       "</div>"
      ],
      "text/plain": [
       "     Company_Name  Founded HeadQuarter         Industry  \\\n",
       "0  Bombay Shaving      NaN         NaN        Ecommerce   \n",
       "1       Ruangguru   2014.0      Mumbai           Edtech   \n",
       "2        Eduisfun      NaN      Mumbai           Edtech   \n",
       "3        HomeLane   2014.0     Chennai  Interior design   \n",
       "4        Nu Genes   2004.0   Telangana         AgriTech   \n",
       "\n",
       "                                       About_Company  \\\n",
       "0         Provides a range of male grooming products   \n",
       "1  A learning platform that provides topic-based ...   \n",
       "2            It aims to make learning fun via games.   \n",
       "3              Provides interior designing solutions   \n",
       "4  It is a seed company engaged in production, pr...   \n",
       "\n",
       "                                Founders  \\\n",
       "0                     Shantanu Deshpande   \n",
       "1  Adamas Belva Syah Devara, Iman Usman.   \n",
       "2                          Jatin Solanki   \n",
       "3           Srikanth Iyer, Rama Harinath   \n",
       "4                 Narayana Reddy Punyala   \n",
       "\n",
       "                                            Investor        Amount  \\\n",
       "0                               Sixth Sense Ventures    $6,300,000   \n",
       "1                                   General Atlantic  $150,000,000   \n",
       "2     Deepak Parekh, Amitabh Bachchan, Piyush Pandey   $28,000,000   \n",
       "3  Evolvence India Fund (EIF), Pidilite Group, FJ...   $30,000,000   \n",
       "4           Innovation in Food and Agriculture (IFA)    $6,000,000   \n",
       "\n",
       "    Round/Series  \n",
       "0            NaN  \n",
       "1       Series C  \n",
       "2  Fresh funding  \n",
       "3       Series D  \n",
       "4            NaN  "
      ]
     },
     "execution_count": 40,
     "metadata": {},
     "output_type": "execute_result"
    }
   ],
   "source": [
    "#Go to the csv file and convert the Rupee Values to its equal dollar value\n",
    "#Renaming the columns to have one title and not different titles meaning the same thing\n",
    "data3 = {\n",
    "    'Company/Brand': [0],\n",
    "    'Sector': [3],\n",
    "    'What it does': [4],\n",
    "    'Amount($)': [7],\n",
    "    'Stage': [8]\n",
    "}\n",
    "data3 = pd.read_csv(file_path)\n",
    "\n",
    "# Renaming multiple columns\n",
    "data3.rename(columns={\n",
    "    'Company/Brand': 'Company_Name',\n",
    "    'Sector': 'Industry',\n",
    "    'What it does': 'About_Company',\n",
    "    'Amount($)': 'Amount',\n",
    "    'Stage': 'Round/Series'\n",
    "}, inplace=True)\n",
    "data3.head()\n"
   ]
  },
  {
   "cell_type": "code",
   "execution_count": 41,
   "metadata": {},
   "outputs": [
    {
     "name": "stdout",
     "output_type": "stream",
     "text": [
      "<class 'pandas.core.frame.DataFrame'>\n",
      "Index: 23 entries, 1 to 86\n",
      "Data columns (total 9 columns):\n",
      " #   Column         Non-Null Count  Dtype  \n",
      "---  ------         --------------  -----  \n",
      " 0   Company_Name   23 non-null     object \n",
      " 1   Founded        23 non-null     float64\n",
      " 2   HeadQuarter    23 non-null     object \n",
      " 3   Industry       23 non-null     object \n",
      " 4   About_Company  23 non-null     object \n",
      " 5   Founders       23 non-null     object \n",
      " 6   Investor       23 non-null     object \n",
      " 7   Amount         23 non-null     object \n",
      " 8   Round/Series   23 non-null     object \n",
      "dtypes: float64(1), object(8)\n",
      "memory usage: 1.8+ KB\n"
     ]
    }
   ],
   "source": [
    "# Dropping rows with null values ,Assuming 'data' is your DataFrame\n",
    "data3 = data3.dropna(subset=['Founded', 'HeadQuarter', 'Industry', 'Founders', 'Round/Series'])\n",
    "data3.info()\n"
   ]
  },
  {
   "cell_type": "code",
   "execution_count": 42,
   "metadata": {},
   "outputs": [
    {
     "data": {
      "text/plain": [
       "1     $150,000,000\n",
       "3      $30,000,000\n",
       "7       $1,000,000\n",
       "9     $275,000,000\n",
       "12      $5,000,000\n",
       "17     $15,000,000\n",
       "19     Undisclosed\n",
       "25      $1,500,000\n",
       "26      $5,500,000\n",
       "28     $12,000,000\n",
       "35     $49,400,000\n",
       "36     $32,000,000\n",
       "38        $150,000\n",
       "40      $2,000,000\n",
       "50     $30,000,000\n",
       "51      $4,000,000\n",
       "53      $1,000,000\n",
       "68     $25,000,000\n",
       "72     $70,000,000\n",
       "73     $60,000,000\n",
       "75     Undisclosed\n",
       "78      $2,100,000\n",
       "86      $5,000,000\n",
       "Name: Amount, dtype: object"
      ]
     },
     "execution_count": 42,
     "metadata": {},
     "output_type": "execute_result"
    }
   ],
   "source": [
    "data3[\"Amount\"]"
   ]
  },
  {
   "cell_type": "code",
   "execution_count": 43,
   "metadata": {},
   "outputs": [
    {
     "data": {
      "text/plain": [
       "1       150000000\n",
       "3        30000000\n",
       "7         1000000\n",
       "9       275000000\n",
       "12        5000000\n",
       "17       15000000\n",
       "19    Undisclosed\n",
       "25        1500000\n",
       "26        5500000\n",
       "28       12000000\n",
       "35       49400000\n",
       "36       32000000\n",
       "38         150000\n",
       "40        2000000\n",
       "50       30000000\n",
       "51        4000000\n",
       "53        1000000\n",
       "68       25000000\n",
       "72       70000000\n",
       "73       60000000\n",
       "75    Undisclosed\n",
       "78        2100000\n",
       "86        5000000\n",
       "Name: Amount, dtype: object"
      ]
     },
     "execution_count": 43,
     "metadata": {},
     "output_type": "execute_result"
    }
   ],
   "source": [
    "#Removing the dollar signs from the Amount$ column\n",
    "data3['Amount'] = data3.Amount.str.replace('$', '')\n",
    "data3['Amount'] = data3.Amount.str.replace(',', '')\n",
    "data3[\"Amount\"]\n"
   ]
  },
  {
   "cell_type": "code",
   "execution_count": 44,
   "metadata": {},
   "outputs": [
    {
     "data": {
      "text/plain": [
       "1     2014.0\n",
       "3     2014.0\n",
       "7     2013.0\n",
       "9     2010.0\n",
       "12    2018.0\n",
       "17    2015.0\n",
       "19    2018.0\n",
       "25    2019.0\n",
       "26    2017.0\n",
       "28    2015.0\n",
       "35    2017.0\n",
       "36    2018.0\n",
       "38    2016.0\n",
       "40    2016.0\n",
       "50    2012.0\n",
       "51    2017.0\n",
       "53    2015.0\n",
       "68    2015.0\n",
       "72    2008.0\n",
       "73    2015.0\n",
       "75    2015.0\n",
       "78    2019.0\n",
       "86    2016.0\n",
       "Name: Founded, dtype: float64"
      ]
     },
     "execution_count": 44,
     "metadata": {},
     "output_type": "execute_result"
    }
   ],
   "source": [
    "data3[\"Founded\"]"
   ]
  },
  {
   "cell_type": "code",
   "execution_count": 45,
   "metadata": {},
   "outputs": [
    {
     "data": {
      "text/plain": [
       "1     2014\n",
       "3     2014\n",
       "7     2013\n",
       "9     2010\n",
       "12    2018\n",
       "17    2015\n",
       "19    2018\n",
       "25    2019\n",
       "26    2017\n",
       "28    2015\n",
       "35    2017\n",
       "36    2018\n",
       "38    2016\n",
       "40    2016\n",
       "50    2012\n",
       "51    2017\n",
       "53    2015\n",
       "68    2015\n",
       "72    2008\n",
       "73    2015\n",
       "75    2015\n",
       "78    2019\n",
       "86    2016\n",
       "Name: Founded, dtype: int64"
      ]
     },
     "execution_count": 45,
     "metadata": {},
     "output_type": "execute_result"
    }
   ],
   "source": [
    "# Writing our years in whole numbers\n",
    "data3['Founded'] = data3['Founded'].astype(int)\n",
    "data3[\"Founded\"]"
   ]
  },
  {
   "cell_type": "code",
   "execution_count": 46,
   "metadata": {},
   "outputs": [
    {
     "data": {
      "text/html": [
       "<div>\n",
       "<style scoped>\n",
       "    .dataframe tbody tr th:only-of-type {\n",
       "        vertical-align: middle;\n",
       "    }\n",
       "\n",
       "    .dataframe tbody tr th {\n",
       "        vertical-align: top;\n",
       "    }\n",
       "\n",
       "    .dataframe thead th {\n",
       "        text-align: right;\n",
       "    }\n",
       "</style>\n",
       "<table border=\"1\" class=\"dataframe\">\n",
       "  <thead>\n",
       "    <tr style=\"text-align: right;\">\n",
       "      <th></th>\n",
       "      <th>Company_Name</th>\n",
       "      <th>Founded</th>\n",
       "      <th>HeadQuarter</th>\n",
       "      <th>Industry</th>\n",
       "      <th>About_Company</th>\n",
       "      <th>Founders</th>\n",
       "      <th>Investor</th>\n",
       "      <th>Amount</th>\n",
       "      <th>Round/Series</th>\n",
       "    </tr>\n",
       "  </thead>\n",
       "  <tbody>\n",
       "    <tr>\n",
       "      <th>1</th>\n",
       "      <td>Ruangguru</td>\n",
       "      <td>2014</td>\n",
       "      <td>Mumbai</td>\n",
       "      <td>Edtech</td>\n",
       "      <td>A learning platform that provides topic-based ...</td>\n",
       "      <td>Adamas Belva Syah Devara, Iman Usman.</td>\n",
       "      <td>General Atlantic</td>\n",
       "      <td>150000000</td>\n",
       "      <td>Series C</td>\n",
       "    </tr>\n",
       "    <tr>\n",
       "      <th>3</th>\n",
       "      <td>HomeLane</td>\n",
       "      <td>2014</td>\n",
       "      <td>Chennai</td>\n",
       "      <td>Interior design</td>\n",
       "      <td>Provides interior designing solutions</td>\n",
       "      <td>Srikanth Iyer, Rama Harinath</td>\n",
       "      <td>Evolvence India Fund (EIF), Pidilite Group, FJ...</td>\n",
       "      <td>30000000</td>\n",
       "      <td>Series D</td>\n",
       "    </tr>\n",
       "    <tr>\n",
       "      <th>7</th>\n",
       "      <td>Kratikal</td>\n",
       "      <td>2013</td>\n",
       "      <td>Noida</td>\n",
       "      <td>Technology</td>\n",
       "      <td>It is a product-based cybersecurity solutions ...</td>\n",
       "      <td>Pavan Kushwaha, Paratosh Bansal, Dip Jung Thapa</td>\n",
       "      <td>Gilda VC, Art Venture, Rajeev Chitrabhanu.</td>\n",
       "      <td>1000000</td>\n",
       "      <td>Pre series A</td>\n",
       "    </tr>\n",
       "    <tr>\n",
       "      <th>9</th>\n",
       "      <td>Lenskart</td>\n",
       "      <td>2010</td>\n",
       "      <td>Delhi</td>\n",
       "      <td>E-commerce</td>\n",
       "      <td>It is a eyewear company</td>\n",
       "      <td>Peyush Bansal, Amit Chaudhary, Sumeet Kapahi</td>\n",
       "      <td>SoftBank</td>\n",
       "      <td>275000000</td>\n",
       "      <td>Series G</td>\n",
       "    </tr>\n",
       "    <tr>\n",
       "      <th>12</th>\n",
       "      <td>Kaleidofin</td>\n",
       "      <td>2018</td>\n",
       "      <td>Chennai</td>\n",
       "      <td>Fintech</td>\n",
       "      <td>Platform that provides complete financial solu...</td>\n",
       "      <td>Puneet Gupta, Sucharita Mukherjee</td>\n",
       "      <td>Oikocredit</td>\n",
       "      <td>5000000</td>\n",
       "      <td>Series A</td>\n",
       "    </tr>\n",
       "  </tbody>\n",
       "</table>\n",
       "</div>"
      ],
      "text/plain": [
       "   Company_Name  Founded HeadQuarter         Industry  \\\n",
       "1     Ruangguru     2014      Mumbai           Edtech   \n",
       "3      HomeLane     2014     Chennai  Interior design   \n",
       "7      Kratikal     2013       Noida       Technology   \n",
       "9      Lenskart     2010       Delhi       E-commerce   \n",
       "12   Kaleidofin     2018     Chennai          Fintech   \n",
       "\n",
       "                                        About_Company  \\\n",
       "1   A learning platform that provides topic-based ...   \n",
       "3               Provides interior designing solutions   \n",
       "7   It is a product-based cybersecurity solutions ...   \n",
       "9                             It is a eyewear company   \n",
       "12  Platform that provides complete financial solu...   \n",
       "\n",
       "                                           Founders  \\\n",
       "1             Adamas Belva Syah Devara, Iman Usman.   \n",
       "3                      Srikanth Iyer, Rama Harinath   \n",
       "7   Pavan Kushwaha, Paratosh Bansal, Dip Jung Thapa   \n",
       "9      Peyush Bansal, Amit Chaudhary, Sumeet Kapahi   \n",
       "12                Puneet Gupta, Sucharita Mukherjee   \n",
       "\n",
       "                                             Investor     Amount  Round/Series  \n",
       "1                                    General Atlantic  150000000      Series C  \n",
       "3   Evolvence India Fund (EIF), Pidilite Group, FJ...   30000000      Series D  \n",
       "7          Gilda VC, Art Venture, Rajeev Chitrabhanu.    1000000  Pre series A  \n",
       "9                                            SoftBank  275000000      Series G  \n",
       "12                                         Oikocredit    5000000      Series A  "
      ]
     },
     "execution_count": 46,
     "metadata": {},
     "output_type": "execute_result"
    }
   ],
   "source": [
    "data3.head()"
   ]
  },
  {
   "cell_type": "code",
   "execution_count": 47,
   "metadata": {},
   "outputs": [
    {
     "name": "stdout",
     "output_type": "stream",
     "text": [
      "<class 'pandas.core.frame.DataFrame'>\n",
      "Index: 23 entries, 1 to 86\n",
      "Data columns (total 9 columns):\n",
      " #   Column         Non-Null Count  Dtype \n",
      "---  ------         --------------  ----- \n",
      " 0   Company_Name   23 non-null     object\n",
      " 1   Founded        23 non-null     int64 \n",
      " 2   HeadQuarter    23 non-null     object\n",
      " 3   Industry       23 non-null     object\n",
      " 4   About_Company  23 non-null     object\n",
      " 5   Founders       23 non-null     object\n",
      " 6   Investor       23 non-null     object\n",
      " 7   Amount         23 non-null     object\n",
      " 8   Round/Series   23 non-null     object\n",
      "dtypes: int64(1), object(8)\n",
      "memory usage: 1.8+ KB\n"
     ]
    }
   ],
   "source": [
    "data3.info()"
   ]
  },
  {
   "cell_type": "code",
   "execution_count": 48,
   "metadata": {
    "notebookRunGroups": {
     "groupValue": "1"
    }
   },
   "outputs": [
    {
     "data": {
      "text/plain": [
       "Index(['Company_Name', 'Founded', 'HeadQuarter', 'Industry', 'About_Company',\n",
       "       'Founders', 'Investor', 'Amount', 'Round/Series'],\n",
       "      dtype='object')"
      ]
     },
     "execution_count": 48,
     "metadata": {},
     "output_type": "execute_result"
    }
   ],
   "source": [
    "data3.columns"
   ]
  },
  {
   "cell_type": "code",
   "execution_count": 49,
   "metadata": {},
   "outputs": [
    {
     "data": {
      "text/plain": [
       "Index(['Company_Name', 'HeadQuarter', 'Industry', 'About_Company', 'Founders',\n",
       "       'Investor', 'Amount', 'Round/Series'],\n",
       "      dtype='object')"
      ]
     },
     "execution_count": 49,
     "metadata": {},
     "output_type": "execute_result"
    }
   ],
   "source": [
    "data3.describe(include='object').columns"
   ]
  },
  {
   "cell_type": "code",
   "execution_count": 50,
   "metadata": {
    "notebookRunGroups": {
     "groupValue": "1"
    }
   },
   "outputs": [
    {
     "data": {
      "text/plain": [
       "Index(['Founded'], dtype='object')"
      ]
     },
     "execution_count": 50,
     "metadata": {},
     "output_type": "execute_result"
    }
   ],
   "source": [
    "data3.describe(include='number').columns"
   ]
  },
  {
   "cell_type": "code",
   "execution_count": 51,
   "metadata": {},
   "outputs": [
    {
     "name": "stdout",
     "output_type": "stream",
     "text": [
      "<class 'pandas.core.frame.DataFrame'>\n",
      "Index: 23 entries, 1 to 86\n",
      "Data columns (total 9 columns):\n",
      " #   Column         Non-Null Count  Dtype \n",
      "---  ------         --------------  ----- \n",
      " 0   Company_Name   23 non-null     object\n",
      " 1   Founded        23 non-null     int64 \n",
      " 2   HeadQuarter    23 non-null     object\n",
      " 3   Industry       23 non-null     object\n",
      " 4   About_Company  23 non-null     object\n",
      " 5   Founders       23 non-null     object\n",
      " 6   Investor       23 non-null     object\n",
      " 7   Amount         23 non-null     object\n",
      " 8   Round/Series   23 non-null     object\n",
      "dtypes: int64(1), object(8)\n",
      "memory usage: 1.8+ KB\n"
     ]
    }
   ],
   "source": [
    "data3.info()"
   ]
  },
  {
   "cell_type": "code",
   "execution_count": 52,
   "metadata": {},
   "outputs": [
    {
     "data": {
      "text/plain": [
       "(23, 9)"
      ]
     },
     "execution_count": 52,
     "metadata": {},
     "output_type": "execute_result"
    }
   ],
   "source": [
    "data3.shape"
   ]
  },
  {
   "cell_type": "code",
   "execution_count": 53,
   "metadata": {},
   "outputs": [],
   "source": [
    "data3 = data3.to_csv('cleaned_data_startup_funding2019.csv', index=False)"
   ]
  },
  {
   "cell_type": "code",
   "execution_count": 54,
   "metadata": {},
   "outputs": [],
   "source": [
    "import os\n",
    "import pandas as pd\n",
    "file_path = \"C:\\\\Users\\\\MoseS\\\\Desktop\\\\LP 1 Project\\\\startup_funding2018.csv\"\n",
    "data4 = pd.read_csv(file_path)"
   ]
  },
  {
   "cell_type": "code",
   "execution_count": 55,
   "metadata": {},
   "outputs": [
    {
     "data": {
      "text/html": [
       "<div>\n",
       "<style scoped>\n",
       "    .dataframe tbody tr th:only-of-type {\n",
       "        vertical-align: middle;\n",
       "    }\n",
       "\n",
       "    .dataframe tbody tr th {\n",
       "        vertical-align: top;\n",
       "    }\n",
       "\n",
       "    .dataframe thead th {\n",
       "        text-align: right;\n",
       "    }\n",
       "</style>\n",
       "<table border=\"1\" class=\"dataframe\">\n",
       "  <thead>\n",
       "    <tr style=\"text-align: right;\">\n",
       "      <th></th>\n",
       "      <th>Company Name</th>\n",
       "      <th>Industry</th>\n",
       "      <th>Round/Series</th>\n",
       "      <th>Amount</th>\n",
       "      <th>Location</th>\n",
       "      <th>About Company</th>\n",
       "    </tr>\n",
       "  </thead>\n",
       "  <tbody>\n",
       "    <tr>\n",
       "      <th>0</th>\n",
       "      <td>TheCollegeFever</td>\n",
       "      <td>Brand Marketing, Event Promotion, Marketing, S...</td>\n",
       "      <td>Seed</td>\n",
       "      <td>$250,000</td>\n",
       "      <td>Bangalore, Karnataka, India</td>\n",
       "      <td>TheCollegeFever is a hub for fun, fiesta and f...</td>\n",
       "    </tr>\n",
       "    <tr>\n",
       "      <th>1</th>\n",
       "      <td>Happy Cow Dairy</td>\n",
       "      <td>Agriculture, Farming</td>\n",
       "      <td>Seed</td>\n",
       "      <td>$480,000</td>\n",
       "      <td>Mumbai, Maharashtra, India</td>\n",
       "      <td>A startup which aggregates milk from dairy far...</td>\n",
       "    </tr>\n",
       "    <tr>\n",
       "      <th>2</th>\n",
       "      <td>MyLoanCare</td>\n",
       "      <td>Credit, Financial Services, Lending, Marketplace</td>\n",
       "      <td>Series A</td>\n",
       "      <td>$780,000</td>\n",
       "      <td>Gurgaon, Haryana, India</td>\n",
       "      <td>Leading Online Loans Marketplace in India</td>\n",
       "    </tr>\n",
       "    <tr>\n",
       "      <th>3</th>\n",
       "      <td>PayMe India</td>\n",
       "      <td>Financial Services, FinTech</td>\n",
       "      <td>Angel</td>\n",
       "      <td>$2,000,000</td>\n",
       "      <td>Noida, Uttar Pradesh, India</td>\n",
       "      <td>PayMe India is an innovative FinTech organizat...</td>\n",
       "    </tr>\n",
       "    <tr>\n",
       "      <th>4</th>\n",
       "      <td>Eunimart</td>\n",
       "      <td>E-Commerce Platforms, Retail, SaaS</td>\n",
       "      <td>Seed</td>\n",
       "      <td>—</td>\n",
       "      <td>Hyderabad, Andhra Pradesh, India</td>\n",
       "      <td>Eunimart is a one stop solution for merchants ...</td>\n",
       "    </tr>\n",
       "  </tbody>\n",
       "</table>\n",
       "</div>"
      ],
      "text/plain": [
       "      Company Name                                           Industry  \\\n",
       "0  TheCollegeFever  Brand Marketing, Event Promotion, Marketing, S...   \n",
       "1  Happy Cow Dairy                               Agriculture, Farming   \n",
       "2       MyLoanCare   Credit, Financial Services, Lending, Marketplace   \n",
       "3      PayMe India                        Financial Services, FinTech   \n",
       "4         Eunimart                 E-Commerce Platforms, Retail, SaaS   \n",
       "\n",
       "  Round/Series      Amount                          Location  \\\n",
       "0         Seed    $250,000       Bangalore, Karnataka, India   \n",
       "1         Seed    $480,000        Mumbai, Maharashtra, India   \n",
       "2     Series A    $780,000           Gurgaon, Haryana, India   \n",
       "3        Angel  $2,000,000       Noida, Uttar Pradesh, India   \n",
       "4         Seed           —  Hyderabad, Andhra Pradesh, India   \n",
       "\n",
       "                                       About Company  \n",
       "0  TheCollegeFever is a hub for fun, fiesta and f...  \n",
       "1  A startup which aggregates milk from dairy far...  \n",
       "2          Leading Online Loans Marketplace in India  \n",
       "3  PayMe India is an innovative FinTech organizat...  \n",
       "4  Eunimart is a one stop solution for merchants ...  "
      ]
     },
     "execution_count": 55,
     "metadata": {},
     "output_type": "execute_result"
    }
   ],
   "source": [
    "data4.head()"
   ]
  },
  {
   "cell_type": "code",
   "execution_count": 56,
   "metadata": {},
   "outputs": [
    {
     "name": "stdout",
     "output_type": "stream",
     "text": [
      "<class 'pandas.core.frame.DataFrame'>\n",
      "RangeIndex: 530 entries, 0 to 529\n",
      "Data columns (total 6 columns):\n",
      " #   Column         Non-Null Count  Dtype \n",
      "---  ------         --------------  ----- \n",
      " 0   Company Name   526 non-null    object\n",
      " 1   Industry       526 non-null    object\n",
      " 2   Round/Series   526 non-null    object\n",
      " 3   Amount         526 non-null    object\n",
      " 4   Location       526 non-null    object\n",
      " 5   About Company  526 non-null    object\n",
      "dtypes: object(6)\n",
      "memory usage: 25.0+ KB\n"
     ]
    }
   ],
   "source": [
    "data4.info()"
   ]
  },
  {
   "cell_type": "code",
   "execution_count": 57,
   "metadata": {},
   "outputs": [
    {
     "data": {
      "text/html": [
       "<div>\n",
       "<style scoped>\n",
       "    .dataframe tbody tr th:only-of-type {\n",
       "        vertical-align: middle;\n",
       "    }\n",
       "\n",
       "    .dataframe tbody tr th {\n",
       "        vertical-align: top;\n",
       "    }\n",
       "\n",
       "    .dataframe thead th {\n",
       "        text-align: right;\n",
       "    }\n",
       "</style>\n",
       "<table border=\"1\" class=\"dataframe\">\n",
       "  <thead>\n",
       "    <tr style=\"text-align: right;\">\n",
       "      <th></th>\n",
       "      <th>Company_Name</th>\n",
       "      <th>Industry</th>\n",
       "      <th>Round/Series</th>\n",
       "      <th>Amount</th>\n",
       "      <th>HeadQuarter</th>\n",
       "      <th>About_Company</th>\n",
       "    </tr>\n",
       "  </thead>\n",
       "  <tbody>\n",
       "    <tr>\n",
       "      <th>0</th>\n",
       "      <td>TheCollegeFever</td>\n",
       "      <td>Brand Marketing, Event Promotion, Marketing, S...</td>\n",
       "      <td>Seed</td>\n",
       "      <td>$250,000</td>\n",
       "      <td>Bangalore, Karnataka, India</td>\n",
       "      <td>TheCollegeFever is a hub for fun, fiesta and f...</td>\n",
       "    </tr>\n",
       "    <tr>\n",
       "      <th>1</th>\n",
       "      <td>Happy Cow Dairy</td>\n",
       "      <td>Agriculture, Farming</td>\n",
       "      <td>Seed</td>\n",
       "      <td>$480,000</td>\n",
       "      <td>Mumbai, Maharashtra, India</td>\n",
       "      <td>A startup which aggregates milk from dairy far...</td>\n",
       "    </tr>\n",
       "    <tr>\n",
       "      <th>2</th>\n",
       "      <td>MyLoanCare</td>\n",
       "      <td>Credit, Financial Services, Lending, Marketplace</td>\n",
       "      <td>Series A</td>\n",
       "      <td>$780,000</td>\n",
       "      <td>Gurgaon, Haryana, India</td>\n",
       "      <td>Leading Online Loans Marketplace in India</td>\n",
       "    </tr>\n",
       "    <tr>\n",
       "      <th>3</th>\n",
       "      <td>PayMe India</td>\n",
       "      <td>Financial Services, FinTech</td>\n",
       "      <td>Angel</td>\n",
       "      <td>$2,000,000</td>\n",
       "      <td>Noida, Uttar Pradesh, India</td>\n",
       "      <td>PayMe India is an innovative FinTech organizat...</td>\n",
       "    </tr>\n",
       "    <tr>\n",
       "      <th>4</th>\n",
       "      <td>Eunimart</td>\n",
       "      <td>E-Commerce Platforms, Retail, SaaS</td>\n",
       "      <td>Seed</td>\n",
       "      <td>—</td>\n",
       "      <td>Hyderabad, Andhra Pradesh, India</td>\n",
       "      <td>Eunimart is a one stop solution for merchants ...</td>\n",
       "    </tr>\n",
       "  </tbody>\n",
       "</table>\n",
       "</div>"
      ],
      "text/plain": [
       "      Company_Name                                           Industry  \\\n",
       "0  TheCollegeFever  Brand Marketing, Event Promotion, Marketing, S...   \n",
       "1  Happy Cow Dairy                               Agriculture, Farming   \n",
       "2       MyLoanCare   Credit, Financial Services, Lending, Marketplace   \n",
       "3      PayMe India                        Financial Services, FinTech   \n",
       "4         Eunimart                 E-Commerce Platforms, Retail, SaaS   \n",
       "\n",
       "  Round/Series      Amount                       HeadQuarter  \\\n",
       "0         Seed    $250,000       Bangalore, Karnataka, India   \n",
       "1         Seed    $480,000        Mumbai, Maharashtra, India   \n",
       "2     Series A    $780,000           Gurgaon, Haryana, India   \n",
       "3        Angel  $2,000,000       Noida, Uttar Pradesh, India   \n",
       "4         Seed           —  Hyderabad, Andhra Pradesh, India   \n",
       "\n",
       "                                       About_Company  \n",
       "0  TheCollegeFever is a hub for fun, fiesta and f...  \n",
       "1  A startup which aggregates milk from dairy far...  \n",
       "2          Leading Online Loans Marketplace in India  \n",
       "3  PayMe India is an innovative FinTech organizat...  \n",
       "4  Eunimart is a one stop solution for merchants ...  "
      ]
     },
     "execution_count": 57,
     "metadata": {},
     "output_type": "execute_result"
    }
   ],
   "source": [
    "#Renaming the columns to have one title and not different titles meaning the same thing\n",
    "data4 = {\n",
    "    'Company Name': [0],\n",
    "    'About Company': [5],\n",
    "    'Location': [4]\n",
    "}\n",
    "data4 = pd.read_csv(file_path)\n",
    "\n",
    "# Renaming multiple columns\n",
    "data4.rename(columns={\n",
    "    'Company Name': 'Company_Name',\n",
    "    'About Company': 'About_Company',\n",
    "    'Location': 'HeadQuarter'\n",
    "}, inplace=True)\n",
    "data4.head()\n"
   ]
  },
  {
   "cell_type": "code",
   "execution_count": 58,
   "metadata": {},
   "outputs": [
    {
     "name": "stdout",
     "output_type": "stream",
     "text": [
      "<class 'pandas.core.frame.DataFrame'>\n",
      "Index: 526 entries, 0 to 525\n",
      "Data columns (total 6 columns):\n",
      " #   Column         Non-Null Count  Dtype \n",
      "---  ------         --------------  ----- \n",
      " 0   Company_Name   526 non-null    object\n",
      " 1   Industry       526 non-null    object\n",
      " 2   Round/Series   526 non-null    object\n",
      " 3   Amount         526 non-null    object\n",
      " 4   HeadQuarter    526 non-null    object\n",
      " 5   About_Company  526 non-null    object\n",
      "dtypes: object(6)\n",
      "memory usage: 28.8+ KB\n"
     ]
    }
   ],
   "source": [
    "#checking from the initial info it seems this data set has no null values but we will check\n",
    "# Assuming 'data' is your DataFrame\n",
    "data4 = data4.dropna()\n",
    "data4.info()\n"
   ]
  },
  {
   "cell_type": "code",
   "execution_count": 59,
   "metadata": {},
   "outputs": [
    {
     "data": {
      "text/plain": [
       "0          $250,000\n",
       "1          $480,000\n",
       "2          $780,000\n",
       "3        $2,000,000\n",
       "4                 —\n",
       "           ...     \n",
       "521    $225,000,000\n",
       "522               —\n",
       "523          $7,500\n",
       "524        $420,000\n",
       "525     $35,000,000\n",
       "Name: Amount, Length: 526, dtype: object"
      ]
     },
     "execution_count": 59,
     "metadata": {},
     "output_type": "execute_result"
    }
   ],
   "source": [
    "data4[\"Amount\"]"
   ]
  },
  {
   "cell_type": "code",
   "execution_count": 60,
   "metadata": {},
   "outputs": [
    {
     "data": {
      "text/plain": [
       "0         250000\n",
       "1         480000\n",
       "2         780000\n",
       "3        2000000\n",
       "4              —\n",
       "         ...    \n",
       "521    225000000\n",
       "522            —\n",
       "523         7500\n",
       "524       420000\n",
       "525     35000000\n",
       "Name: Amount, Length: 526, dtype: object"
      ]
     },
     "execution_count": 60,
     "metadata": {},
     "output_type": "execute_result"
    }
   ],
   "source": [
    "#Removing the dollar signs from the Amount$ column\n",
    "data4['Amount'] = data4.Amount.str.replace('$', '')\n",
    "data4['Amount'] = data4.Amount.str.replace(',', '')\n",
    "data4[\"Amount\"]"
   ]
  },
  {
   "cell_type": "code",
   "execution_count": 61,
   "metadata": {},
   "outputs": [
    {
     "data": {
      "text/plain": [
       "Index(['Company_Name', 'Industry', 'Round/Series', 'Amount', 'HeadQuarter',\n",
       "       'About_Company'],\n",
       "      dtype='object')"
      ]
     },
     "execution_count": 61,
     "metadata": {},
     "output_type": "execute_result"
    }
   ],
   "source": [
    "data4.columns"
   ]
  },
  {
   "cell_type": "code",
   "execution_count": 62,
   "metadata": {},
   "outputs": [
    {
     "data": {
      "text/plain": [
       "Index(['Company_Name', 'Industry', 'Round/Series', 'Amount', 'HeadQuarter',\n",
       "       'About_Company'],\n",
       "      dtype='object')"
      ]
     },
     "execution_count": 62,
     "metadata": {},
     "output_type": "execute_result"
    }
   ],
   "source": [
    "data4.describe(include='object').columns"
   ]
  },
  {
   "cell_type": "code",
   "execution_count": 63,
   "metadata": {},
   "outputs": [
    {
     "data": {
      "text/html": [
       "<div>\n",
       "<style scoped>\n",
       "    .dataframe tbody tr th:only-of-type {\n",
       "        vertical-align: middle;\n",
       "    }\n",
       "\n",
       "    .dataframe tbody tr th {\n",
       "        vertical-align: top;\n",
       "    }\n",
       "\n",
       "    .dataframe thead th {\n",
       "        text-align: right;\n",
       "    }\n",
       "</style>\n",
       "<table border=\"1\" class=\"dataframe\">\n",
       "  <thead>\n",
       "    <tr style=\"text-align: right;\">\n",
       "      <th></th>\n",
       "      <th>Company_Name</th>\n",
       "      <th>Industry</th>\n",
       "      <th>Round/Series</th>\n",
       "      <th>Amount</th>\n",
       "      <th>HeadQuarter</th>\n",
       "      <th>About_Company</th>\n",
       "    </tr>\n",
       "  </thead>\n",
       "  <tbody>\n",
       "    <tr>\n",
       "      <th>0</th>\n",
       "      <td>TheCollegeFever</td>\n",
       "      <td>Brand Marketing, Event Promotion, Marketing, S...</td>\n",
       "      <td>Seed</td>\n",
       "      <td>250000</td>\n",
       "      <td>Bangalore, Karnataka, India</td>\n",
       "      <td>TheCollegeFever is a hub for fun, fiesta and f...</td>\n",
       "    </tr>\n",
       "    <tr>\n",
       "      <th>1</th>\n",
       "      <td>Happy Cow Dairy</td>\n",
       "      <td>Agriculture, Farming</td>\n",
       "      <td>Seed</td>\n",
       "      <td>480000</td>\n",
       "      <td>Mumbai, Maharashtra, India</td>\n",
       "      <td>A startup which aggregates milk from dairy far...</td>\n",
       "    </tr>\n",
       "    <tr>\n",
       "      <th>2</th>\n",
       "      <td>MyLoanCare</td>\n",
       "      <td>Credit, Financial Services, Lending, Marketplace</td>\n",
       "      <td>Series A</td>\n",
       "      <td>780000</td>\n",
       "      <td>Gurgaon, Haryana, India</td>\n",
       "      <td>Leading Online Loans Marketplace in India</td>\n",
       "    </tr>\n",
       "    <tr>\n",
       "      <th>3</th>\n",
       "      <td>PayMe India</td>\n",
       "      <td>Financial Services, FinTech</td>\n",
       "      <td>Angel</td>\n",
       "      <td>2000000</td>\n",
       "      <td>Noida, Uttar Pradesh, India</td>\n",
       "      <td>PayMe India is an innovative FinTech organizat...</td>\n",
       "    </tr>\n",
       "    <tr>\n",
       "      <th>4</th>\n",
       "      <td>Eunimart</td>\n",
       "      <td>E-Commerce Platforms, Retail, SaaS</td>\n",
       "      <td>Seed</td>\n",
       "      <td>—</td>\n",
       "      <td>Hyderabad, Andhra Pradesh, India</td>\n",
       "      <td>Eunimart is a one stop solution for merchants ...</td>\n",
       "    </tr>\n",
       "  </tbody>\n",
       "</table>\n",
       "</div>"
      ],
      "text/plain": [
       "      Company_Name                                           Industry  \\\n",
       "0  TheCollegeFever  Brand Marketing, Event Promotion, Marketing, S...   \n",
       "1  Happy Cow Dairy                               Agriculture, Farming   \n",
       "2       MyLoanCare   Credit, Financial Services, Lending, Marketplace   \n",
       "3      PayMe India                        Financial Services, FinTech   \n",
       "4         Eunimart                 E-Commerce Platforms, Retail, SaaS   \n",
       "\n",
       "  Round/Series   Amount                       HeadQuarter  \\\n",
       "0         Seed   250000       Bangalore, Karnataka, India   \n",
       "1         Seed   480000        Mumbai, Maharashtra, India   \n",
       "2     Series A   780000           Gurgaon, Haryana, India   \n",
       "3        Angel  2000000       Noida, Uttar Pradesh, India   \n",
       "4         Seed        —  Hyderabad, Andhra Pradesh, India   \n",
       "\n",
       "                                       About_Company  \n",
       "0  TheCollegeFever is a hub for fun, fiesta and f...  \n",
       "1  A startup which aggregates milk from dairy far...  \n",
       "2          Leading Online Loans Marketplace in India  \n",
       "3  PayMe India is an innovative FinTech organizat...  \n",
       "4  Eunimart is a one stop solution for merchants ...  "
      ]
     },
     "execution_count": 63,
     "metadata": {},
     "output_type": "execute_result"
    }
   ],
   "source": [
    "data4.head()"
   ]
  },
  {
   "cell_type": "code",
   "execution_count": 64,
   "metadata": {},
   "outputs": [
    {
     "name": "stdout",
     "output_type": "stream",
     "text": [
      "<class 'pandas.core.frame.DataFrame'>\n",
      "Index: 526 entries, 0 to 525\n",
      "Data columns (total 6 columns):\n",
      " #   Column         Non-Null Count  Dtype \n",
      "---  ------         --------------  ----- \n",
      " 0   Company_Name   526 non-null    object\n",
      " 1   Industry       526 non-null    object\n",
      " 2   Round/Series   526 non-null    object\n",
      " 3   Amount         526 non-null    object\n",
      " 4   HeadQuarter    526 non-null    object\n",
      " 5   About_Company  526 non-null    object\n",
      "dtypes: object(6)\n",
      "memory usage: 28.8+ KB\n"
     ]
    }
   ],
   "source": [
    "data4.info()"
   ]
  },
  {
   "cell_type": "code",
   "execution_count": 65,
   "metadata": {},
   "outputs": [
    {
     "data": {
      "text/plain": [
       "(526, 6)"
      ]
     },
     "execution_count": 65,
     "metadata": {},
     "output_type": "execute_result"
    }
   ],
   "source": [
    "data4.shape"
   ]
  },
  {
   "cell_type": "code",
   "execution_count": 66,
   "metadata": {},
   "outputs": [],
   "source": [
    "data4 = data4.to_csv('cleaned_data_startup_funding2018.csv', index=False)"
   ]
  },
  {
   "cell_type": "code",
   "execution_count": 67,
   "metadata": {},
   "outputs": [],
   "source": [
    "df=pd.concat([data,data2])\n",
    "df.to_csv('aba.csv')"
   ]
  },
  {
   "cell_type": "code",
   "execution_count": 68,
   "metadata": {},
   "outputs": [
    {
     "data": {
      "text/html": [
       "<div>\n",
       "<style scoped>\n",
       "    .dataframe tbody tr th:only-of-type {\n",
       "        vertical-align: middle;\n",
       "    }\n",
       "\n",
       "    .dataframe tbody tr th {\n",
       "        vertical-align: top;\n",
       "    }\n",
       "\n",
       "    .dataframe thead th {\n",
       "        text-align: right;\n",
       "    }\n",
       "</style>\n",
       "<table border=\"1\" class=\"dataframe\">\n",
       "  <thead>\n",
       "    <tr style=\"text-align: right;\">\n",
       "      <th></th>\n",
       "      <th>Company_Name</th>\n",
       "      <th>Founded</th>\n",
       "      <th>HeadQuarter</th>\n",
       "      <th>Industry</th>\n",
       "      <th>About_Company</th>\n",
       "      <th>Founders</th>\n",
       "      <th>Investor</th>\n",
       "      <th>Amount</th>\n",
       "      <th>Round/Series</th>\n",
       "    </tr>\n",
       "  </thead>\n",
       "  <tbody>\n",
       "    <tr>\n",
       "      <th>0</th>\n",
       "      <td>Unbox Robotics</td>\n",
       "      <td>2019</td>\n",
       "      <td>Bangalore</td>\n",
       "      <td>AI startup</td>\n",
       "      <td>Unbox Robotics builds on-demand AI-driven ware...</td>\n",
       "      <td>Pramod Ghadge, Shahid Memon</td>\n",
       "      <td>BEENEXT, Entrepreneur First</td>\n",
       "      <td>1200000</td>\n",
       "      <td>Pre-series A</td>\n",
       "    </tr>\n",
       "    <tr>\n",
       "      <th>2</th>\n",
       "      <td>Lead School</td>\n",
       "      <td>2012</td>\n",
       "      <td>Mumbai</td>\n",
       "      <td>EdTech</td>\n",
       "      <td>LEAD School offers technology based school tra...</td>\n",
       "      <td>Smita Deorah, Sumeet Mehta</td>\n",
       "      <td>GSV Ventures, Westbridge Capital</td>\n",
       "      <td>30000000</td>\n",
       "      <td>Series D</td>\n",
       "    </tr>\n",
       "    <tr>\n",
       "      <th>3</th>\n",
       "      <td>Bizongo</td>\n",
       "      <td>2015</td>\n",
       "      <td>Mumbai</td>\n",
       "      <td>B2B E-commerce</td>\n",
       "      <td>Bizongo is a business-to-business online marke...</td>\n",
       "      <td>Aniket Deb, Ankit Tomar, Sachin Agrawal</td>\n",
       "      <td>CDC Group, IDG Capital</td>\n",
       "      <td>51000000</td>\n",
       "      <td>Series C</td>\n",
       "    </tr>\n",
       "    <tr>\n",
       "      <th>4</th>\n",
       "      <td>FypMoney</td>\n",
       "      <td>2021</td>\n",
       "      <td>Gurugram</td>\n",
       "      <td>FinTech</td>\n",
       "      <td>FypMoney is Digital NEO Bank for Teenagers, em...</td>\n",
       "      <td>Kapil Banwari</td>\n",
       "      <td>Liberatha Kallat, Mukesh Yadav, Dinesh Nagpal</td>\n",
       "      <td>2000000</td>\n",
       "      <td>Seed</td>\n",
       "    </tr>\n",
       "    <tr>\n",
       "      <th>7</th>\n",
       "      <td>Qube Health</td>\n",
       "      <td>2016</td>\n",
       "      <td>Mumbai</td>\n",
       "      <td>HealthTech</td>\n",
       "      <td>India's Most Respected Workplace Healthcare Ma...</td>\n",
       "      <td>Gagan Kapur</td>\n",
       "      <td>Inflection Point Ventures</td>\n",
       "      <td>Undisclosed</td>\n",
       "      <td>Pre-series A</td>\n",
       "    </tr>\n",
       "  </tbody>\n",
       "</table>\n",
       "</div>"
      ],
      "text/plain": [
       "     Company_Name  Founded HeadQuarter        Industry  \\\n",
       "0  Unbox Robotics     2019   Bangalore      AI startup   \n",
       "2     Lead School     2012      Mumbai          EdTech   \n",
       "3         Bizongo     2015      Mumbai  B2B E-commerce   \n",
       "4        FypMoney     2021    Gurugram         FinTech   \n",
       "7     Qube Health     2016      Mumbai      HealthTech   \n",
       "\n",
       "                                       About_Company  \\\n",
       "0  Unbox Robotics builds on-demand AI-driven ware...   \n",
       "2  LEAD School offers technology based school tra...   \n",
       "3  Bizongo is a business-to-business online marke...   \n",
       "4  FypMoney is Digital NEO Bank for Teenagers, em...   \n",
       "7  India's Most Respected Workplace Healthcare Ma...   \n",
       "\n",
       "                                  Founders  \\\n",
       "0              Pramod Ghadge, Shahid Memon   \n",
       "2               Smita Deorah, Sumeet Mehta   \n",
       "3  Aniket Deb, Ankit Tomar, Sachin Agrawal   \n",
       "4                            Kapil Banwari   \n",
       "7                              Gagan Kapur   \n",
       "\n",
       "                                        Investor       Amount  Round/Series  \n",
       "0                    BEENEXT, Entrepreneur First      1200000  Pre-series A  \n",
       "2               GSV Ventures, Westbridge Capital     30000000      Series D  \n",
       "3                         CDC Group, IDG Capital     51000000      Series C  \n",
       "4  Liberatha Kallat, Mukesh Yadav, Dinesh Nagpal      2000000          Seed  \n",
       "7                      Inflection Point Ventures  Undisclosed  Pre-series A  "
      ]
     },
     "execution_count": 68,
     "metadata": {},
     "output_type": "execute_result"
    }
   ],
   "source": [
    "df.head()"
   ]
  },
  {
   "cell_type": "code",
   "execution_count": 69,
   "metadata": {},
   "outputs": [
    {
     "name": "stdout",
     "output_type": "stream",
     "text": [
      "<class 'pandas.core.frame.DataFrame'>\n",
      "Index: 1098 entries, 0 to 1054\n",
      "Data columns (total 9 columns):\n",
      " #   Column         Non-Null Count  Dtype \n",
      "---  ------         --------------  ----- \n",
      " 0   Company_Name   1098 non-null   object\n",
      " 1   Founded        1098 non-null   int64 \n",
      " 2   HeadQuarter    1098 non-null   object\n",
      " 3   Industry       1094 non-null   object\n",
      " 4   About_Company  1098 non-null   object\n",
      " 5   Founders       1093 non-null   object\n",
      " 6   Investor       1098 non-null   object\n",
      " 7   Amount         1098 non-null   object\n",
      " 8   Round/Series   1098 non-null   object\n",
      "dtypes: int64(1), object(8)\n",
      "memory usage: 85.8+ KB\n"
     ]
    }
   ],
   "source": [
    "df.info()"
   ]
  },
  {
   "cell_type": "code",
   "execution_count": 70,
   "metadata": {},
   "outputs": [
    {
     "data": {
      "text/plain": [
       "Index(['Company_Name', 'Founded', 'HeadQuarter', 'Industry', 'About_Company',\n",
       "       'Founders', 'Investor', 'Amount', 'Round/Series'],\n",
       "      dtype='object')"
      ]
     },
     "execution_count": 70,
     "metadata": {},
     "output_type": "execute_result"
    }
   ],
   "source": [
    "df.columns"
   ]
  },
  {
   "cell_type": "code",
   "execution_count": 71,
   "metadata": {},
   "outputs": [
    {
     "data": {
      "text/plain": [
       "Index(['Company_Name', 'HeadQuarter', 'Industry', 'About_Company', 'Founders',\n",
       "       'Investor', 'Amount', 'Round/Series'],\n",
       "      dtype='object')"
      ]
     },
     "execution_count": 71,
     "metadata": {},
     "output_type": "execute_result"
    }
   ],
   "source": [
    "df.describe(include='object').columns"
   ]
  },
  {
   "cell_type": "code",
   "execution_count": 72,
   "metadata": {},
   "outputs": [
    {
     "data": {
      "text/plain": [
       "Index(['Founded'], dtype='object')"
      ]
     },
     "execution_count": 72,
     "metadata": {},
     "output_type": "execute_result"
    }
   ],
   "source": [
    "df.describe(include='number').columns"
   ]
  },
  {
   "cell_type": "code",
   "execution_count": 73,
   "metadata": {},
   "outputs": [
    {
     "name": "stdout",
     "output_type": "stream",
     "text": [
      "<class 'pandas.core.frame.DataFrame'>\n",
      "Index: 1098 entries, 0 to 1054\n",
      "Data columns (total 9 columns):\n",
      " #   Column         Non-Null Count  Dtype \n",
      "---  ------         --------------  ----- \n",
      " 0   Company_Name   1098 non-null   object\n",
      " 1   Founded        1098 non-null   int64 \n",
      " 2   HeadQuarter    1098 non-null   object\n",
      " 3   Industry       1094 non-null   object\n",
      " 4   About_Company  1098 non-null   object\n",
      " 5   Founders       1093 non-null   object\n",
      " 6   Investor       1098 non-null   object\n",
      " 7   Amount         1098 non-null   object\n",
      " 8   Round/Series   1098 non-null   object\n",
      "dtypes: int64(1), object(8)\n",
      "memory usage: 85.8+ KB\n"
     ]
    }
   ],
   "source": [
    "df.info()"
   ]
  },
  {
   "cell_type": "code",
   "execution_count": 74,
   "metadata": {},
   "outputs": [
    {
     "data": {
      "text/plain": [
       "(1098, 9)"
      ]
     },
     "execution_count": 74,
     "metadata": {},
     "output_type": "execute_result"
    }
   ],
   "source": [
    "df.shape"
   ]
  },
  {
   "cell_type": "code",
   "execution_count": 75,
   "metadata": {},
   "outputs": [],
   "source": [
    "df2=pd.concat([data,data2,data3])\n",
    "df2.to_csv('aba2.csv')"
   ]
  },
  {
   "cell_type": "code",
   "execution_count": 76,
   "metadata": {},
   "outputs": [
    {
     "data": {
      "text/html": [
       "<div>\n",
       "<style scoped>\n",
       "    .dataframe tbody tr th:only-of-type {\n",
       "        vertical-align: middle;\n",
       "    }\n",
       "\n",
       "    .dataframe tbody tr th {\n",
       "        vertical-align: top;\n",
       "    }\n",
       "\n",
       "    .dataframe thead th {\n",
       "        text-align: right;\n",
       "    }\n",
       "</style>\n",
       "<table border=\"1\" class=\"dataframe\">\n",
       "  <thead>\n",
       "    <tr style=\"text-align: right;\">\n",
       "      <th></th>\n",
       "      <th>Company_Name</th>\n",
       "      <th>Founded</th>\n",
       "      <th>HeadQuarter</th>\n",
       "      <th>Industry</th>\n",
       "      <th>About_Company</th>\n",
       "      <th>Founders</th>\n",
       "      <th>Investor</th>\n",
       "      <th>Amount</th>\n",
       "      <th>Round/Series</th>\n",
       "    </tr>\n",
       "  </thead>\n",
       "  <tbody>\n",
       "    <tr>\n",
       "      <th>0</th>\n",
       "      <td>Unbox Robotics</td>\n",
       "      <td>2019</td>\n",
       "      <td>Bangalore</td>\n",
       "      <td>AI startup</td>\n",
       "      <td>Unbox Robotics builds on-demand AI-driven ware...</td>\n",
       "      <td>Pramod Ghadge, Shahid Memon</td>\n",
       "      <td>BEENEXT, Entrepreneur First</td>\n",
       "      <td>1200000</td>\n",
       "      <td>Pre-series A</td>\n",
       "    </tr>\n",
       "    <tr>\n",
       "      <th>2</th>\n",
       "      <td>Lead School</td>\n",
       "      <td>2012</td>\n",
       "      <td>Mumbai</td>\n",
       "      <td>EdTech</td>\n",
       "      <td>LEAD School offers technology based school tra...</td>\n",
       "      <td>Smita Deorah, Sumeet Mehta</td>\n",
       "      <td>GSV Ventures, Westbridge Capital</td>\n",
       "      <td>30000000</td>\n",
       "      <td>Series D</td>\n",
       "    </tr>\n",
       "    <tr>\n",
       "      <th>3</th>\n",
       "      <td>Bizongo</td>\n",
       "      <td>2015</td>\n",
       "      <td>Mumbai</td>\n",
       "      <td>B2B E-commerce</td>\n",
       "      <td>Bizongo is a business-to-business online marke...</td>\n",
       "      <td>Aniket Deb, Ankit Tomar, Sachin Agrawal</td>\n",
       "      <td>CDC Group, IDG Capital</td>\n",
       "      <td>51000000</td>\n",
       "      <td>Series C</td>\n",
       "    </tr>\n",
       "    <tr>\n",
       "      <th>4</th>\n",
       "      <td>FypMoney</td>\n",
       "      <td>2021</td>\n",
       "      <td>Gurugram</td>\n",
       "      <td>FinTech</td>\n",
       "      <td>FypMoney is Digital NEO Bank for Teenagers, em...</td>\n",
       "      <td>Kapil Banwari</td>\n",
       "      <td>Liberatha Kallat, Mukesh Yadav, Dinesh Nagpal</td>\n",
       "      <td>2000000</td>\n",
       "      <td>Seed</td>\n",
       "    </tr>\n",
       "    <tr>\n",
       "      <th>7</th>\n",
       "      <td>Qube Health</td>\n",
       "      <td>2016</td>\n",
       "      <td>Mumbai</td>\n",
       "      <td>HealthTech</td>\n",
       "      <td>India's Most Respected Workplace Healthcare Ma...</td>\n",
       "      <td>Gagan Kapur</td>\n",
       "      <td>Inflection Point Ventures</td>\n",
       "      <td>Undisclosed</td>\n",
       "      <td>Pre-series A</td>\n",
       "    </tr>\n",
       "  </tbody>\n",
       "</table>\n",
       "</div>"
      ],
      "text/plain": [
       "     Company_Name  Founded HeadQuarter        Industry  \\\n",
       "0  Unbox Robotics     2019   Bangalore      AI startup   \n",
       "2     Lead School     2012      Mumbai          EdTech   \n",
       "3         Bizongo     2015      Mumbai  B2B E-commerce   \n",
       "4        FypMoney     2021    Gurugram         FinTech   \n",
       "7     Qube Health     2016      Mumbai      HealthTech   \n",
       "\n",
       "                                       About_Company  \\\n",
       "0  Unbox Robotics builds on-demand AI-driven ware...   \n",
       "2  LEAD School offers technology based school tra...   \n",
       "3  Bizongo is a business-to-business online marke...   \n",
       "4  FypMoney is Digital NEO Bank for Teenagers, em...   \n",
       "7  India's Most Respected Workplace Healthcare Ma...   \n",
       "\n",
       "                                  Founders  \\\n",
       "0              Pramod Ghadge, Shahid Memon   \n",
       "2               Smita Deorah, Sumeet Mehta   \n",
       "3  Aniket Deb, Ankit Tomar, Sachin Agrawal   \n",
       "4                            Kapil Banwari   \n",
       "7                              Gagan Kapur   \n",
       "\n",
       "                                        Investor       Amount  Round/Series  \n",
       "0                    BEENEXT, Entrepreneur First      1200000  Pre-series A  \n",
       "2               GSV Ventures, Westbridge Capital     30000000      Series D  \n",
       "3                         CDC Group, IDG Capital     51000000      Series C  \n",
       "4  Liberatha Kallat, Mukesh Yadav, Dinesh Nagpal      2000000          Seed  \n",
       "7                      Inflection Point Ventures  Undisclosed  Pre-series A  "
      ]
     },
     "execution_count": 76,
     "metadata": {},
     "output_type": "execute_result"
    }
   ],
   "source": [
    "df2.head()"
   ]
  },
  {
   "cell_type": "code",
   "execution_count": 77,
   "metadata": {},
   "outputs": [
    {
     "data": {
      "text/plain": [
       "Index(['Company_Name', 'Founded', 'HeadQuarter', 'Industry', 'About_Company',\n",
       "       'Founders', 'Investor', 'Amount', 'Round/Series'],\n",
       "      dtype='object')"
      ]
     },
     "execution_count": 77,
     "metadata": {},
     "output_type": "execute_result"
    }
   ],
   "source": [
    "df2.columns"
   ]
  },
  {
   "cell_type": "code",
   "execution_count": 78,
   "metadata": {},
   "outputs": [
    {
     "data": {
      "text/plain": [
       "Index(['Company_Name', 'HeadQuarter', 'Industry', 'About_Company', 'Founders',\n",
       "       'Investor', 'Amount', 'Round/Series'],\n",
       "      dtype='object')"
      ]
     },
     "execution_count": 78,
     "metadata": {},
     "output_type": "execute_result"
    }
   ],
   "source": [
    "df2.describe(include='object').columns"
   ]
  },
  {
   "cell_type": "code",
   "execution_count": 79,
   "metadata": {},
   "outputs": [
    {
     "data": {
      "text/plain": [
       "Index(['Founded'], dtype='object')"
      ]
     },
     "execution_count": 79,
     "metadata": {},
     "output_type": "execute_result"
    }
   ],
   "source": [
    "df2.describe(include='number').columns"
   ]
  },
  {
   "cell_type": "code",
   "execution_count": 80,
   "metadata": {},
   "outputs": [
    {
     "name": "stdout",
     "output_type": "stream",
     "text": [
      "<class 'pandas.core.frame.DataFrame'>\n",
      "Index: 1098 entries, 0 to 1054\n",
      "Data columns (total 9 columns):\n",
      " #   Column         Non-Null Count  Dtype \n",
      "---  ------         --------------  ----- \n",
      " 0   Company_Name   1098 non-null   object\n",
      " 1   Founded        1098 non-null   int64 \n",
      " 2   HeadQuarter    1098 non-null   object\n",
      " 3   Industry       1094 non-null   object\n",
      " 4   About_Company  1098 non-null   object\n",
      " 5   Founders       1093 non-null   object\n",
      " 6   Investor       1098 non-null   object\n",
      " 7   Amount         1098 non-null   object\n",
      " 8   Round/Series   1098 non-null   object\n",
      "dtypes: int64(1), object(8)\n",
      "memory usage: 85.8+ KB\n"
     ]
    }
   ],
   "source": [
    "df2.info()"
   ]
  },
  {
   "cell_type": "code",
   "execution_count": 81,
   "metadata": {},
   "outputs": [
    {
     "data": {
      "text/plain": [
       "(1098, 9)"
      ]
     },
     "execution_count": 81,
     "metadata": {},
     "output_type": "execute_result"
    }
   ],
   "source": [
    "df2.shape"
   ]
  },
  {
   "cell_type": "code",
   "execution_count": 82,
   "metadata": {},
   "outputs": [],
   "source": [
    "df3=pd.concat([data,data2,data3,data4])\n",
    "df3.to_csv('aba3.csv')"
   ]
  },
  {
   "cell_type": "code",
   "execution_count": 83,
   "metadata": {},
   "outputs": [
    {
     "data": {
      "text/html": [
       "<div>\n",
       "<style scoped>\n",
       "    .dataframe tbody tr th:only-of-type {\n",
       "        vertical-align: middle;\n",
       "    }\n",
       "\n",
       "    .dataframe tbody tr th {\n",
       "        vertical-align: top;\n",
       "    }\n",
       "\n",
       "    .dataframe thead th {\n",
       "        text-align: right;\n",
       "    }\n",
       "</style>\n",
       "<table border=\"1\" class=\"dataframe\">\n",
       "  <thead>\n",
       "    <tr style=\"text-align: right;\">\n",
       "      <th></th>\n",
       "      <th>Company_Name</th>\n",
       "      <th>Founded</th>\n",
       "      <th>HeadQuarter</th>\n",
       "      <th>Industry</th>\n",
       "      <th>About_Company</th>\n",
       "      <th>Founders</th>\n",
       "      <th>Investor</th>\n",
       "      <th>Amount</th>\n",
       "      <th>Round/Series</th>\n",
       "    </tr>\n",
       "  </thead>\n",
       "  <tbody>\n",
       "    <tr>\n",
       "      <th>0</th>\n",
       "      <td>Unbox Robotics</td>\n",
       "      <td>2019</td>\n",
       "      <td>Bangalore</td>\n",
       "      <td>AI startup</td>\n",
       "      <td>Unbox Robotics builds on-demand AI-driven ware...</td>\n",
       "      <td>Pramod Ghadge, Shahid Memon</td>\n",
       "      <td>BEENEXT, Entrepreneur First</td>\n",
       "      <td>1200000</td>\n",
       "      <td>Pre-series A</td>\n",
       "    </tr>\n",
       "    <tr>\n",
       "      <th>2</th>\n",
       "      <td>Lead School</td>\n",
       "      <td>2012</td>\n",
       "      <td>Mumbai</td>\n",
       "      <td>EdTech</td>\n",
       "      <td>LEAD School offers technology based school tra...</td>\n",
       "      <td>Smita Deorah, Sumeet Mehta</td>\n",
       "      <td>GSV Ventures, Westbridge Capital</td>\n",
       "      <td>30000000</td>\n",
       "      <td>Series D</td>\n",
       "    </tr>\n",
       "    <tr>\n",
       "      <th>3</th>\n",
       "      <td>Bizongo</td>\n",
       "      <td>2015</td>\n",
       "      <td>Mumbai</td>\n",
       "      <td>B2B E-commerce</td>\n",
       "      <td>Bizongo is a business-to-business online marke...</td>\n",
       "      <td>Aniket Deb, Ankit Tomar, Sachin Agrawal</td>\n",
       "      <td>CDC Group, IDG Capital</td>\n",
       "      <td>51000000</td>\n",
       "      <td>Series C</td>\n",
       "    </tr>\n",
       "    <tr>\n",
       "      <th>4</th>\n",
       "      <td>FypMoney</td>\n",
       "      <td>2021</td>\n",
       "      <td>Gurugram</td>\n",
       "      <td>FinTech</td>\n",
       "      <td>FypMoney is Digital NEO Bank for Teenagers, em...</td>\n",
       "      <td>Kapil Banwari</td>\n",
       "      <td>Liberatha Kallat, Mukesh Yadav, Dinesh Nagpal</td>\n",
       "      <td>2000000</td>\n",
       "      <td>Seed</td>\n",
       "    </tr>\n",
       "    <tr>\n",
       "      <th>7</th>\n",
       "      <td>Qube Health</td>\n",
       "      <td>2016</td>\n",
       "      <td>Mumbai</td>\n",
       "      <td>HealthTech</td>\n",
       "      <td>India's Most Respected Workplace Healthcare Ma...</td>\n",
       "      <td>Gagan Kapur</td>\n",
       "      <td>Inflection Point Ventures</td>\n",
       "      <td>Undisclosed</td>\n",
       "      <td>Pre-series A</td>\n",
       "    </tr>\n",
       "  </tbody>\n",
       "</table>\n",
       "</div>"
      ],
      "text/plain": [
       "     Company_Name  Founded HeadQuarter        Industry  \\\n",
       "0  Unbox Robotics     2019   Bangalore      AI startup   \n",
       "2     Lead School     2012      Mumbai          EdTech   \n",
       "3         Bizongo     2015      Mumbai  B2B E-commerce   \n",
       "4        FypMoney     2021    Gurugram         FinTech   \n",
       "7     Qube Health     2016      Mumbai      HealthTech   \n",
       "\n",
       "                                       About_Company  \\\n",
       "0  Unbox Robotics builds on-demand AI-driven ware...   \n",
       "2  LEAD School offers technology based school tra...   \n",
       "3  Bizongo is a business-to-business online marke...   \n",
       "4  FypMoney is Digital NEO Bank for Teenagers, em...   \n",
       "7  India's Most Respected Workplace Healthcare Ma...   \n",
       "\n",
       "                                  Founders  \\\n",
       "0              Pramod Ghadge, Shahid Memon   \n",
       "2               Smita Deorah, Sumeet Mehta   \n",
       "3  Aniket Deb, Ankit Tomar, Sachin Agrawal   \n",
       "4                            Kapil Banwari   \n",
       "7                              Gagan Kapur   \n",
       "\n",
       "                                        Investor       Amount  Round/Series  \n",
       "0                    BEENEXT, Entrepreneur First      1200000  Pre-series A  \n",
       "2               GSV Ventures, Westbridge Capital     30000000      Series D  \n",
       "3                         CDC Group, IDG Capital     51000000      Series C  \n",
       "4  Liberatha Kallat, Mukesh Yadav, Dinesh Nagpal      2000000          Seed  \n",
       "7                      Inflection Point Ventures  Undisclosed  Pre-series A  "
      ]
     },
     "execution_count": 83,
     "metadata": {},
     "output_type": "execute_result"
    }
   ],
   "source": [
    "df3.head()"
   ]
  },
  {
   "cell_type": "code",
   "execution_count": 84,
   "metadata": {},
   "outputs": [
    {
     "name": "stdout",
     "output_type": "stream",
     "text": [
      "<class 'pandas.core.frame.DataFrame'>\n",
      "Index: 1098 entries, 0 to 1054\n",
      "Data columns (total 9 columns):\n",
      " #   Column         Non-Null Count  Dtype \n",
      "---  ------         --------------  ----- \n",
      " 0   Company_Name   1098 non-null   object\n",
      " 1   Founded        1098 non-null   int64 \n",
      " 2   HeadQuarter    1098 non-null   object\n",
      " 3   Industry       1094 non-null   object\n",
      " 4   About_Company  1098 non-null   object\n",
      " 5   Founders       1093 non-null   object\n",
      " 6   Investor       1098 non-null   object\n",
      " 7   Amount         1098 non-null   object\n",
      " 8   Round/Series   1098 non-null   object\n",
      "dtypes: int64(1), object(8)\n",
      "memory usage: 85.8+ KB\n"
     ]
    }
   ],
   "source": [
    "df3.info()"
   ]
  },
  {
   "cell_type": "code",
   "execution_count": 85,
   "metadata": {},
   "outputs": [
    {
     "data": {
      "text/plain": [
       "Index(['Company_Name', 'Founded', 'HeadQuarter', 'Industry', 'About_Company',\n",
       "       'Founders', 'Investor', 'Amount', 'Round/Series'],\n",
       "      dtype='object')"
      ]
     },
     "execution_count": 85,
     "metadata": {},
     "output_type": "execute_result"
    }
   ],
   "source": [
    "df3.columns"
   ]
  },
  {
   "cell_type": "code",
   "execution_count": 86,
   "metadata": {},
   "outputs": [
    {
     "data": {
      "text/plain": [
       "Index(['Company_Name', 'HeadQuarter', 'Industry', 'About_Company', 'Founders',\n",
       "       'Investor', 'Amount', 'Round/Series'],\n",
       "      dtype='object')"
      ]
     },
     "execution_count": 86,
     "metadata": {},
     "output_type": "execute_result"
    }
   ],
   "source": [
    "df3.describe(include='object').columns"
   ]
  },
  {
   "cell_type": "code",
   "execution_count": 87,
   "metadata": {},
   "outputs": [
    {
     "data": {
      "text/plain": [
       "Index(['Founded'], dtype='object')"
      ]
     },
     "execution_count": 87,
     "metadata": {},
     "output_type": "execute_result"
    }
   ],
   "source": [
    "df3.describe(include='number').columns"
   ]
  },
  {
   "cell_type": "code",
   "execution_count": 88,
   "metadata": {},
   "outputs": [
    {
     "data": {
      "text/plain": [
       "(1098, 9)"
      ]
     },
     "execution_count": 88,
     "metadata": {},
     "output_type": "execute_result"
    }
   ],
   "source": [
    "df3.shape"
   ]
  }
 ],
 "metadata": {
  "kernelspec": {
   "display_name": "Python 3",
   "language": "python",
   "name": "python3"
  },
  "language_info": {
   "codemirror_mode": {
    "name": "ipython",
    "version": 3
   },
   "file_extension": ".py",
   "mimetype": "text/x-python",
   "name": "python",
   "nbconvert_exporter": "python",
   "pygments_lexer": "ipython3",
   "version": "3.12.7"
  }
 },
 "nbformat": 4,
 "nbformat_minor": 2
}
