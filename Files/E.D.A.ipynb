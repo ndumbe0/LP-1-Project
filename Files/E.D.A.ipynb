{
 "cells": [
  {
   "cell_type": "code",
   "execution_count": 1,
   "metadata": {},
   "outputs": [
    {
     "name": "stdout",
     "output_type": "stream",
     "text": [
      "   Unnamed: 0 Company_Brand  Founded HeadQuarter              Sector  \\\n",
      "0           0    Aqgromalin   2019.0     Chennai            AgriTech   \n",
      "1           1      Krayonnz   2019.0   Bangalore              EdTech   \n",
      "2           2  PadCare Labs   2018.0        Pune  Hygiene management   \n",
      "3           3         NCOME   2020.0   New Delhi              Escrow   \n",
      "4           4    Gramophone   2016.0      Indore            AgriTech   \n",
      "\n",
      "                                        What_it_does  \\\n",
      "0                       Cultivating Ideas for Profit   \n",
      "1  An academy-guardian-scholar centric ecosystem ...   \n",
      "2   Converting bio-hazardous waste to harmless waste   \n",
      "3                       Escrow-as-a-service platform   \n",
      "4  Gramophone is an AgTech platform enabling acce...   \n",
      "\n",
      "                                            Founders  \\\n",
      "0                    Prasanna Manogaran, Bharani C L   \n",
      "1                   Saurabh Dixit, Gurudutt Upadhyay   \n",
      "2                                    Ajinkya Dhariya   \n",
      "3                                      Ritesh Tiwari   \n",
      "4  Ashish Rajan Singh, Harshit Gupta, Nishant Mah...   \n",
      "\n",
      "                              Investor    Amount     Stage column10  \\\n",
      "0                      Angel investors  200000.0       NaN      NaN   \n",
      "1                      GSF Accelerator  100000.0  Pre-seed      NaN   \n",
      "2                       Venture Center       NaN  Pre-seed      NaN   \n",
      "3  Venture Catalysts, PointOne Capital  400000.0       NaN      NaN   \n",
      "4  Siana Capital Management, Info Edge  340000.0       NaN      NaN   \n",
      "\n",
      "  Company/Brand What it does Amount($) Company Name Industry Round/Series  \\\n",
      "0           NaN          NaN       NaN          NaN      NaN          NaN   \n",
      "1           NaN          NaN       NaN          NaN      NaN          NaN   \n",
      "2           NaN          NaN       NaN          NaN      NaN          NaN   \n",
      "3           NaN          NaN       NaN          NaN      NaN          NaN   \n",
      "4           NaN          NaN       NaN          NaN      NaN          NaN   \n",
      "\n",
      "  Location About Company  \n",
      "0      NaN           NaN  \n",
      "1      NaN           NaN  \n",
      "2      NaN           NaN  \n",
      "3      NaN           NaN  \n",
      "4      NaN           NaN  \n"
     ]
    }
   ],
   "source": [
    "import pandas as pd\n",
    "\n",
    "# Load the dataset\n",
    "file_path = \"F:\\\\school\\\\Azubi Africa\\\\LP1 Data Analytics Project\\\\LP-1-Project\\\\data\\\\aba3.csv\"\n",
    "data = pd.read_csv(file_path)\n",
    "\n",
    "# Display the first few rows of the dataset\n",
    "print(data.head())"
   ]
  },
  {
   "cell_type": "markdown",
   "metadata": {},
   "source": [
    "**Data Cleaning and Preprocessing**"
   ]
  },
  {
   "cell_type": "code",
   "execution_count": 2,
   "metadata": {},
   "outputs": [
    {
     "name": "stdout",
     "output_type": "stream",
     "text": [
      "Original Dataframe:\n",
      "   Unnamed: 0 Company_Brand  Founded HeadQuarter              Sector  \\\n",
      "0           0    Aqgromalin   2019.0     Chennai            AgriTech   \n",
      "1           1      Krayonnz   2019.0   Bangalore              EdTech   \n",
      "2           2  PadCare Labs   2018.0        Pune  Hygiene management   \n",
      "3           3         NCOME   2020.0   New Delhi              Escrow   \n",
      "4           4    Gramophone   2016.0      Indore            AgriTech   \n",
      "\n",
      "                                        What_it_does  \\\n",
      "0                       Cultivating Ideas for Profit   \n",
      "1  An academy-guardian-scholar centric ecosystem ...   \n",
      "2   Converting bio-hazardous waste to harmless waste   \n",
      "3                       Escrow-as-a-service platform   \n",
      "4  Gramophone is an AgTech platform enabling acce...   \n",
      "\n",
      "                                            Founders  \\\n",
      "0                    Prasanna Manogaran, Bharani C L   \n",
      "1                   Saurabh Dixit, Gurudutt Upadhyay   \n",
      "2                                    Ajinkya Dhariya   \n",
      "3                                      Ritesh Tiwari   \n",
      "4  Ashish Rajan Singh, Harshit Gupta, Nishant Mah...   \n",
      "\n",
      "                              Investor    Amount     Stage column10  \\\n",
      "0                      Angel investors  200000.0       NaN      NaN   \n",
      "1                      GSF Accelerator  100000.0  Pre-seed      NaN   \n",
      "2                       Venture Center       NaN  Pre-seed      NaN   \n",
      "3  Venture Catalysts, PointOne Capital  400000.0       NaN      NaN   \n",
      "4  Siana Capital Management, Info Edge  340000.0       NaN      NaN   \n",
      "\n",
      "  Company/Brand What it does Amount($) Company Name Industry Round/Series  \\\n",
      "0           NaN          NaN       NaN          NaN      NaN          NaN   \n",
      "1           NaN          NaN       NaN          NaN      NaN          NaN   \n",
      "2           NaN          NaN       NaN          NaN      NaN          NaN   \n",
      "3           NaN          NaN       NaN          NaN      NaN          NaN   \n",
      "4           NaN          NaN       NaN          NaN      NaN          NaN   \n",
      "\n",
      "  Location About Company  \n",
      "0      NaN           NaN  \n",
      "1      NaN           NaN  \n",
      "2      NaN           NaN  \n",
      "3      NaN           NaN  \n",
      "4      NaN           NaN  \n"
     ]
    },
    {
     "name": "stderr",
     "output_type": "stream",
     "text": [
      "C:\\Users\\MoseS\\AppData\\Local\\Temp\\ipykernel_16200\\3068702320.py:13: FutureWarning: DataFrame.replace without 'value' and with non-dict-like 'to_replace' is deprecated and will raise in a future version. Explicitly specify the new values instead.\n",
      "  data['Amount'] = data['Amount'].replace('Undisclosed')\n"
     ]
    },
    {
     "ename": "TypeError",
     "evalue": "arg must be a list, tuple, 1-d array, or Series",
     "output_type": "error",
     "traceback": [
      "\u001b[1;31m---------------------------------------------------------------------------\u001b[0m",
      "\u001b[1;31mTypeError\u001b[0m                                 Traceback (most recent call last)",
      "Cell \u001b[1;32mIn[2], line 16\u001b[0m\n\u001b[0;32m     13\u001b[0m data[\u001b[38;5;124m'\u001b[39m\u001b[38;5;124mAmount\u001b[39m\u001b[38;5;124m'\u001b[39m] \u001b[38;5;241m=\u001b[39m data[\u001b[38;5;124m'\u001b[39m\u001b[38;5;124mAmount\u001b[39m\u001b[38;5;124m'\u001b[39m]\u001b[38;5;241m.\u001b[39mreplace(\u001b[38;5;124m'\u001b[39m\u001b[38;5;124mUndisclosed\u001b[39m\u001b[38;5;124m'\u001b[39m)\n\u001b[0;32m     15\u001b[0m \u001b[38;5;66;03m# b. Convert 'Amount' column to numeric (float)\u001b[39;00m\n\u001b[1;32m---> 16\u001b[0m data[\u001b[38;5;124m'\u001b[39m\u001b[38;5;124mAmount\u001b[39m\u001b[38;5;124m'\u001b[39m] \u001b[38;5;241m=\u001b[39m \u001b[43mpd\u001b[49m\u001b[38;5;241;43m.\u001b[39;49m\u001b[43mto_numeric\u001b[49m\u001b[43m(\u001b[49m\u001b[43mdata\u001b[49m\u001b[43m[\u001b[49m\u001b[38;5;124;43m'\u001b[39;49m\u001b[38;5;124;43mAmount\u001b[39;49m\u001b[38;5;124;43m'\u001b[39;49m\u001b[43m]\u001b[49m\u001b[43m,\u001b[49m\u001b[43m \u001b[49m\u001b[43merrors\u001b[49m\u001b[38;5;241;43m=\u001b[39;49m\u001b[38;5;124;43m'\u001b[39;49m\u001b[38;5;124;43mcoerce\u001b[39;49m\u001b[38;5;124;43m'\u001b[39;49m\u001b[43m)\u001b[49m\n\u001b[0;32m     18\u001b[0m \u001b[38;5;66;03m# 3. Clean 'Industry' Column\u001b[39;00m\n\u001b[0;32m     19\u001b[0m data[\u001b[38;5;124m'\u001b[39m\u001b[38;5;124mIndustry\u001b[39m\u001b[38;5;124m'\u001b[39m] \u001b[38;5;241m=\u001b[39m data[\u001b[38;5;124m'\u001b[39m\u001b[38;5;124mIndustry\u001b[39m\u001b[38;5;124m'\u001b[39m]\u001b[38;5;241m.\u001b[39mstr\u001b[38;5;241m.\u001b[39mstrip()\n",
      "File \u001b[1;32mc:\\Users\\MoseS\\AppData\\Local\\Programs\\Python\\Python312\\Lib\\site-packages\\pandas\\core\\tools\\numeric.py:206\u001b[0m, in \u001b[0;36mto_numeric\u001b[1;34m(arg, errors, downcast, dtype_backend)\u001b[0m\n\u001b[0;32m    204\u001b[0m     values \u001b[38;5;241m=\u001b[39m np\u001b[38;5;241m.\u001b[39marray([arg], dtype\u001b[38;5;241m=\u001b[39m\u001b[38;5;124m\"\u001b[39m\u001b[38;5;124mO\u001b[39m\u001b[38;5;124m\"\u001b[39m)\n\u001b[0;32m    205\u001b[0m \u001b[38;5;28;01melif\u001b[39;00m \u001b[38;5;28mgetattr\u001b[39m(arg, \u001b[38;5;124m\"\u001b[39m\u001b[38;5;124mndim\u001b[39m\u001b[38;5;124m\"\u001b[39m, \u001b[38;5;241m1\u001b[39m) \u001b[38;5;241m>\u001b[39m \u001b[38;5;241m1\u001b[39m:\n\u001b[1;32m--> 206\u001b[0m     \u001b[38;5;28;01mraise\u001b[39;00m \u001b[38;5;167;01mTypeError\u001b[39;00m(\u001b[38;5;124m\"\u001b[39m\u001b[38;5;124marg must be a list, tuple, 1-d array, or Series\u001b[39m\u001b[38;5;124m\"\u001b[39m)\n\u001b[0;32m    207\u001b[0m \u001b[38;5;28;01melse\u001b[39;00m:\n\u001b[0;32m    208\u001b[0m     values \u001b[38;5;241m=\u001b[39m arg\n",
      "\u001b[1;31mTypeError\u001b[0m: arg must be a list, tuple, 1-d array, or Series"
     ]
    }
   ],
   "source": [
    "# Display the first few rows of the dataframe to understand its structure\n",
    "print(\"Original Dataframe:\")\n",
    "print(data.head())\n",
    "\n",
    "# 1. Standardize Column Names\n",
    "data.columns = data.columns.str.replace('[^A-Za-z0-9_]+', '', regex=True)\n",
    "data.rename(columns={'CompanyName': 'Company_Name', \n",
    "                   'HeadQuarter': 'Head_Quarter',\n",
    "                   'AboutCompany': 'About_Company'}, inplace=True)\n",
    "\n",
    "# 2. Handle Missing Values\n",
    "# a. Replace 'Undisclosed' with NaN in 'Amount' column\n",
    "data['Amount'] = data['Amount'].replace('Undisclosed')\n",
    "\n",
    "# b. Convert 'Amount' column to numeric (float)\n",
    "data['Amount'] = pd.to_numeric(data['Amount'], errors='coerce')\n",
    "\n",
    "# 3. Clean 'Industry' Column\n",
    "data['Industry'] = data['Industry'].str.strip()\n",
    "\n",
    "# 4. Clean 'Head_Quarter' Column\n",
    "data['Head_Quarter'] = data['Head_Quarter'].str.strip()\n",
    "data['Head_Quarter'] = data['Head_Quarter'].str.replace('Small Towns, Andhra Pradesh', 'Andhra Pradesh', regex=False)\n",
    "data['Head_Quarter'] = data['Head_Quarter'].str.replace('Faridabad, Haryana', 'Faridabad', regex=False)\n",
    "\n",
    "# 5. Clean 'RoundSeries' Column\n",
    "data['RoundSeries'] = data['RoundSeries'].str.strip()\n",
    "\n",
    "# 6. Correcting inconsistencies in 'Company_Name'\n",
    "data['Company_Name'] = data['Company_Name'].str.strip()\n",
    "\n",
    "# Replace specific company names to maintain consistency\n",
    "data['Company_Name'] = data['Company_Name'].replace({\n",
    "    'PUREandFRES-Milk': 'Puresh Daily',\n",
    "    'FanPlay': 'FanPlay'\n",
    "})\n",
    "\n",
    "# 7. Remove Duplicates\n",
    "data.drop_duplicates(inplace=True)\n",
    "\n",
    "# Print some info and the head of the cleaned data\n",
    "print(\"\\nCleaned Dataframe Info:\")\n",
    "print(data.info())\n",
    "\n",
    "print(\"\\nCleaned Dataframe:\")\n",
    "print(data.head())\n"
   ]
  },
  {
   "cell_type": "code",
   "execution_count": null,
   "metadata": {},
   "outputs": [],
   "source": [
    "# Path where you want to save the file\n",
    "path_to_save = \"F:\\\\school\\\\Azubi Africa\\\\LP1 Data Analytics Project\\\\LP-1-Project\\\\data\"\n",
    "\n",
    "# Save the cleaned dataset to a new CSV file.\n",
    "data.to_csv(f\"{path_to_save}\\\\Aba3_cleaned.csv\", index=False)\n"
   ]
  },
  {
   "cell_type": "markdown",
   "metadata": {},
   "source": []
  },
  {
   "cell_type": "code",
   "execution_count": null,
   "metadata": {},
   "outputs": [],
   "source": [
    "import pandas as pd\n",
    "\n",
    "# Load the dataset\n",
    "file_path = \"F:\\\\school\\\\Azubi Africa\\\\LP1 Data Analytics Project\\\\LP-1-Project\\\\data\\\\Aba3_cleaned.csv\"\n",
    "df = pd.read_csv(file_path)\n",
    "\n",
    "# Display the first few rows of the dataset\n",
    "print(df.head())"
   ]
  },
  {
   "cell_type": "code",
   "execution_count": null,
   "metadata": {},
   "outputs": [],
   "source": [
    "print(df.columns)\n"
   ]
  },
  {
   "cell_type": "markdown",
   "metadata": {},
   "source": [
    "**Analyze Funding Rounds**"
   ]
  },
  {
   "cell_type": "code",
   "execution_count": null,
   "metadata": {},
   "outputs": [],
   "source": [
    "import matplotlib.pyplot as plt\n",
    "import seaborn as sns\n",
    "\n",
    "# Group by 'Round/Series' and calculate the total funding amount\n",
    "funding_by_round = df.groupby('RoundSeries')['Amount'].sum().sort_values(ascending=False)\n",
    "\n",
    "# Plot the total funding amount by round\n",
    "plt.figure(figsize=(10, 6))\n",
    "sns.barplot(x=funding_by_round.index, y=funding_by_round.values, palette='viridis')\n",
    "plt.title('Total Funding Amount by RoundSeries')\n",
    "plt.xlabel('RoundSeries')\n",
    "plt.ylabel('Total Funding Amount (in USD)')\n",
    "plt.xticks(rotation=45)\n",
    "plt.show()"
   ]
  },
  {
   "cell_type": "markdown",
   "metadata": {},
   "source": []
  },
  {
   "cell_type": "markdown",
   "metadata": {},
   "source": [
    "**Analyze Industries**"
   ]
  },
  {
   "cell_type": "code",
   "execution_count": null,
   "metadata": {},
   "outputs": [],
   "source": [
    "# Group by 'Industry' and calculate the total funding amount\n",
    "funding_by_industry = df.groupby('Industry')['Amount'].sum().sort_values(ascending=False)\n",
    "\n",
    "# Plot the total funding amount by industry\n",
    "plt.figure(figsize=(12, 8))\n",
    "sns.barplot(x=funding_by_industry.index, y=funding_by_industry.values, palette='magma')\n",
    "plt.title('Total Funding Amount by Industry')\n",
    "plt.xlabel('Industry')\n",
    "plt.ylabel('Total Funding Amount (in USD)')\n",
    "plt.xticks(rotation=90)\n",
    "plt.show()"
   ]
  },
  {
   "cell_type": "markdown",
   "metadata": {},
   "source": []
  },
  {
   "cell_type": "markdown",
   "metadata": {},
   "source": [
    "**Geographical Distribution**"
   ]
  },
  {
   "cell_type": "code",
   "execution_count": null,
   "metadata": {},
   "outputs": [],
   "source": [
    "# Group by 'HeadQuarter' and calculate the total funding amount\n",
    "funding_by_city = df.groupby('HeadQuarter')['Amount'].sum().sort_values(ascending=False)\n",
    "\n",
    "# Plot the total funding amount by city\n",
    "plt.figure(figsize=(12, 8))\n",
    "sns.barplot(x=funding_by_city.index, y=funding_by_city.values, palette='plasma')\n",
    "plt.title('Total Funding Amount by City')\n",
    "plt.xlabel('City')\n",
    "plt.ylabel('Total Funding Amount (in USD)')\n",
    "plt.xticks(rotation=90)\n",
    "plt.show()"
   ]
  },
  {
   "cell_type": "markdown",
   "metadata": {},
   "source": []
  },
  {
   "cell_type": "markdown",
   "metadata": {},
   "source": [
    "**Analyze Investors**"
   ]
  },
  {
   "cell_type": "code",
   "execution_count": null,
   "metadata": {},
   "outputs": [],
   "source": [
    "# Split the 'Investor' column (since it contains multiple investors separated by commas)\n",
    "df['Investor'] = df['Investor'].str.split(', ')\n",
    "\n",
    "# Explode the 'Investor' column to have one investor per row\n",
    "df_exploded = df.explode('Investor')\n",
    "\n",
    "# Group by 'Investor' and calculate the total funding amount\n",
    "funding_by_investor = df_exploded.groupby('Investor')['Amount'].sum().sort_values(ascending=False).head(20)\n",
    "\n",
    "# Plot the total funding amount by investor\n",
    "plt.figure(figsize=(12, 8))\n",
    "sns.barplot(x=funding_by_investor.index, y=funding_by_investor.values, palette='inferno')\n",
    "plt.title('Total Funding Amount by Investor (Top 20)')\n",
    "plt.xlabel('Investor')\n",
    "plt.ylabel('Total Funding Amount (in USD)')\n",
    "plt.xticks(rotation=90)\n",
    "plt.show()"
   ]
  },
  {
   "cell_type": "markdown",
   "metadata": {},
   "source": []
  },
  {
   "cell_type": "markdown",
   "metadata": {},
   "source": [
    "**Analyze Company Age**"
   ]
  },
  {
   "cell_type": "code",
   "execution_count": null,
   "metadata": {},
   "outputs": [],
   "source": [
    "# Calculate the age of each company (assuming the current year is 2023)\n",
    "df['Company_Age'] = 2023 - df['Founded'].dt.year\n",
    "\n",
    "# Plot the distribution of company ages\n",
    "plt.figure(figsize=(10, 6))\n",
    "sns.histplot(df['Company_Age'], bins=20, kde=True, color='blue')\n",
    "plt.title('Distribution of Company Ages')\n",
    "plt.xlabel('Company Age (Years)')\n",
    "plt.ylabel('Frequency')\n",
    "plt.show()\n",
    "\n",
    "# Plot funding amount vs company age\n",
    "plt.figure(figsize=(10, 6))\n",
    "sns.scatterplot(x=df['Company_Age'], y=df['Amount'], alpha=0.6, color='green')\n",
    "plt.title('Funding Amount vs Company Age')\n",
    "plt.xlabel('Company Age (Years)')\n",
    "plt.ylabel('Funding Amount (in USD)')\n",
    "plt.show()"
   ]
  },
  {
   "cell_type": "markdown",
   "metadata": {},
   "source": []
  },
  {
   "cell_type": "markdown",
   "metadata": {},
   "source": [
    "**Analyze Founders**"
   ]
  },
  {
   "cell_type": "code",
   "execution_count": null,
   "metadata": {},
   "outputs": [],
   "source": [
    "# Split the 'Founders' column (since it contains multiple founders separated by commas)\n",
    "df['Founders'] = df['Founders'].str.split(', ')\n",
    "\n",
    "# Explode the 'Founders' column to have one founder per row\n",
    "df_exploded_founders = df.explode('Founders')\n",
    "\n",
    "# Group by 'Founders' and calculate the total funding amount\n",
    "funding_by_founder = df_exploded_founders.groupby('Founders')['Amount'].sum().sort_values(ascending=False).head(20)\n",
    "\n",
    "# Plot the total funding amount by founder\n",
    "plt.figure(figsize=(12, 8))\n",
    "sns.barplot(x=funding_by_founder.index, y=funding_by_founder.values, palette='cividis')\n",
    "plt.title('Total Funding Amount by Founder (Top 20)')\n",
    "plt.xlabel('Founder')\n",
    "plt.ylabel('Total Funding Amount (in USD)')\n",
    "plt.xticks(rotation=90)\n",
    "plt.show()"
   ]
  },
  {
   "cell_type": "markdown",
   "metadata": {},
   "source": []
  },
  {
   "cell_type": "markdown",
   "metadata": {},
   "source": [
    "**Analyze Funding Trends Over Time**"
   ]
  },
  {
   "cell_type": "code",
   "execution_count": null,
   "metadata": {},
   "outputs": [],
   "source": [
    "# Extract the year from the 'Founded' column\n",
    "df['Year'] = df['Founded'].dt.year\n",
    "\n",
    "# Group by 'Year' and calculate the total funding amount\n",
    "funding_by_year = df.groupby('Year')['Amount'].sum()\n",
    "\n",
    "# Plot the total funding amount by year\n",
    "plt.figure(figsize=(10, 6))\n",
    "sns.lineplot(x=funding_by_year.index, y=funding_by_year.values, marker='o', color='purple')\n",
    "plt.title('Total Funding Amount by Year')\n",
    "plt.xlabel('Year')\n",
    "plt.ylabel('Total Funding Amount (in USD)')\n",
    "plt.show()"
   ]
  },
  {
   "cell_type": "markdown",
   "metadata": {},
   "source": []
  },
  {
   "cell_type": "markdown",
   "metadata": {},
   "source": [
    "**Analyze Company Size**"
   ]
  },
  {
   "cell_type": "code",
   "execution_count": null,
   "metadata": {},
   "outputs": [],
   "source": [
    "# Assuming 'Company_Size' is a column in the dataset (if not, you may need to derive it)\n",
    "# For example, you could categorize companies based on funding amount\n",
    "df['Company_Size'] = pd.cut(df['Amount'], bins=[0, 1e6, 10e6, 50e6, 100e6, float('inf')], \n",
    "                          labels=['Small', 'Medium', 'Large', 'Very Large', 'Mega'])\n",
    "\n",
    "# Plot the distribution of company sizes\n",
    "plt.figure(figsize=(10, 6))\n",
    "sns.countplot(x=df['Company_Size'], palette='rocket')\n",
    "plt.title('Distribution of Company Sizes')\n",
    "plt.xlabel('Company Size')\n",
    "plt.ylabel('Count')\n",
    "plt.show()"
   ]
  },
  {
   "cell_type": "markdown",
   "metadata": {},
   "source": []
  }
 ],
 "metadata": {
  "kernelspec": {
   "display_name": "Python 3",
   "language": "python",
   "name": "python3"
  },
  "language_info": {
   "codemirror_mode": {
    "name": "ipython",
    "version": 3
   },
   "file_extension": ".py",
   "mimetype": "text/x-python",
   "name": "python",
   "nbconvert_exporter": "python",
   "pygments_lexer": "ipython3",
   "version": "3.12.7"
  }
 },
 "nbformat": 4,
 "nbformat_minor": 2
}
