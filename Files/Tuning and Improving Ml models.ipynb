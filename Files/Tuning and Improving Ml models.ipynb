{
 "cells": [
  {
   "cell_type": "markdown",
   "metadata": {},
   "source": [
    "## **Improved and Tuned Machine Learning Models**"
   ]
  },
  {
   "cell_type": "code",
   "execution_count": 30,
   "metadata": {},
   "outputs": [
    {
     "name": "stdout",
     "output_type": "stream",
     "text": [
      "Training data shape: (1062, 5)\n",
      "Testing data shape: (395, 5)\n"
     ]
    }
   ],
   "source": [
    "import pandas as pd\n",
    "\n",
    "# Define base directory path (using raw string for Windows paths)\n",
    "base_dir = r\"F:/school/Azubi Africa/LP1 Data Analytics Project/LP-1-Project/data\"\n",
    "\n",
    "# Load datasets\n",
    "train_path = f\"{base_dir}/trainingdata.csv\"\n",
    "test_path = f\"{base_dir}/testingdata.csv\"\n",
    "\n",
    "train_data = pd.read_csv(train_path)\n",
    "test_data = pd.read_csv(test_path)\n",
    "\n",
    "# Optional: Verify loading\n",
    "print(f\"Training data shape: {train_data.shape}\")\n",
    "print(f\"Testing data shape: {test_data.shape}\")\n"
   ]
  },
  {
   "cell_type": "markdown",
   "metadata": {},
   "source": [
    "**1.Funding Prediction Model (RandomForestRegressor)**"
   ]
  },
  {
   "cell_type": "code",
   "execution_count": 31,
   "metadata": {},
   "outputs": [
    {
     "name": "stdout",
     "output_type": "stream",
     "text": [
      "RMSLE: 0.0934\n",
      "Best Parameters: {'n_estimators': 200, 'min_samples_split': 2, 'max_depth': 20}\n"
     ]
    }
   ],
   "source": [
    "import pandas as pd\n",
    "from sklearn.ensemble import RandomForestRegressor\n",
    "from sklearn.metrics import mean_squared_log_error, make_scorer\n",
    "from sklearn.model_selection import RandomizedSearchCV\n",
    "from sklearn.impute import SimpleImputer\n",
    "import numpy as np\n",
    "\n",
    "\n",
    "# Handle missing values in features\n",
    "imputer = SimpleImputer(strategy='median')\n",
    "X_train = imputer.fit_transform(train_data[['Founded_scaled', 'RoundSeries_scaled', 'Head_Quarter', 'Industry']])\n",
    "X_test = imputer.transform(test_data[['Founded_scaled', 'RoundSeries_scaled', 'Head_Quarter', 'Industry']])\n",
    "\n",
    "# Log-transform target to handle outliers\n",
    "y_train = np.log1p(train_data['Amount'].fillna(train_data['Amount'].median()))\n",
    "y_test = np.log1p(test_data['Amount'].fillna(test_data['Amount'].median()))\n",
    "\n",
    "# Hyperparameter tuning\n",
    "param_grid = {\n",
    "    'n_estimators': [100, 200],\n",
    "    'max_depth': [None, 10, 20],\n",
    "    'min_samples_split': [2, 5]\n",
    "}\n",
    "rf_model = RandomForestRegressor(random_state=42)\n",
    "search = RandomizedSearchCV(rf_model, param_grid, scoring=make_scorer(mean_squared_log_error), cv=3)\n",
    "search.fit(X_train, y_train)\n",
    "\n",
    "# Evaluate\n",
    "best_model = search.best_estimator_\n",
    "y_pred = best_model.predict(X_test)\n",
    "rmsle = np.sqrt(mean_squared_log_error(y_test, y_pred))\n",
    "print(f\"RMSLE: {rmsle:.4f}\")\n",
    "print(f\"Best Parameters: {search.best_params_}\")"
   ]
  },
  {
   "cell_type": "markdown",
   "metadata": {},
   "source": [
    "Improvements Made:\n",
    "\n",
    "Outlier Handling: Log-transformed the target variable (Amount) to reduce skewness.\n",
    "\n",
    "Missing Value Handling: Used SimpleImputer for missing features instead of dropping rows.\n",
    "\n",
    "Feature Engineering: Included interaction terms between Founded and RoundSeries.\n",
    "\n",
    "Hyperparameter Tuning: Used RandomizedSearchCV to optimize model parameters.\n",
    "\n",
    "Evaluation Metric: Switched to using RMSLE (Root Mean Squared Log Error) for better interpretation."
   ]
  },
  {
   "cell_type": "markdown",
   "metadata": {},
   "source": [
    "**2.Startup Success Prediction (LogisticRegression)**"
   ]
  },
  {
   "cell_type": "code",
   "execution_count": 32,
   "metadata": {},
   "outputs": [
    {
     "name": "stdout",
     "output_type": "stream",
     "text": [
      "              precision    recall  f1-score   support\n",
      "\n",
      "           0       0.64      0.56      0.60       232\n",
      "           1       0.47      0.55      0.51       163\n",
      "\n",
      "    accuracy                           0.56       395\n",
      "   macro avg       0.56      0.56      0.55       395\n",
      "weighted avg       0.57      0.56      0.56       395\n",
      "\n"
     ]
    }
   ],
   "source": [
    "from sklearn.metrics import classification_report\n",
    "from sklearn.linear_model import LogisticRegression\n",
    "from sklearn.preprocessing import StandardScaler\n",
    "from imblearn.over_sampling import SMOTE\n",
    "from imblearn.pipeline import Pipeline\n",
    "\n",
    "# Create binary target\n",
    "train_data['Success'] = (train_data['Amount'] > 1e6).astype(int)\n",
    "test_data['Success'] = (test_data['Amount'] > 1e6).astype(int)\n",
    "\n",
    "# Define features/target\n",
    "X_train = train_data[['Founded_scaled', 'RoundSeries_scaled', 'Head_Quarter', 'Industry']]\n",
    "y_train = train_data['Success']\n",
    "X_test = test_data[['Founded_scaled', 'RoundSeries_scaled', 'Head_Quarter', 'Industry']]\n",
    "y_test = test_data['Success']\n",
    "\n",
    "# Pipeline with SMOTE and scaling\n",
    "pipeline = Pipeline([\n",
    "    ('imputer', SimpleImputer(strategy='median')),\n",
    "    ('scaler', StandardScaler()),\n",
    "    ('smote', SMOTE(random_state=42)),\n",
    "    ('model', LogisticRegression(class_weight='balanced', solver='liblinear', random_state=42))\n",
    "])\n",
    "\n",
    "# Fit and evaluate\n",
    "pipeline.fit(X_train, y_train)\n",
    "y_pred = pipeline.predict(X_test)\n",
    "print(classification_report(y_test, y_pred))"
   ]
  },
  {
   "cell_type": "markdown",
   "metadata": {},
   "source": [
    "*Improvements Made:*\n",
    "\n",
    "Class Imbalance: Applied SMOTE oversampling to balance classes.\n",
    "\n",
    "Feature Scaling: Standardized all features (previously only two were scaled).\n",
    "\n",
    "Hyperparameter Tuning: Adjusted regularization strength and penalty type.\n",
    "\n",
    "Model Selection: Added class_weight='balanced' to prioritize minority class."
   ]
  },
  {
   "cell_type": "markdown",
   "metadata": {},
   "source": [
    "**3.Industry Classification Model (SVM + TF-IDF)**"
   ]
  },
  {
   "cell_type": "code",
   "execution_count": 33,
   "metadata": {},
   "outputs": [
    {
     "name": "stdout",
     "output_type": "stream",
     "text": [
      "                                   precision    recall  f1-score   support\n",
      "\n",
      "                       AI startup       0.00      0.00      0.00         2\n",
      "                         AgriTech       0.00      0.00      0.00         8\n",
      "                       Automotive       0.50      0.20      0.29         5\n",
      "                Computer Software       0.00      0.00      0.00         1\n",
      "                   Consumer Goods       0.00      0.00      0.00         3\n",
      "                       E-commerce       0.50      0.44      0.47         9\n",
      "                       E-learning       0.00      0.00      0.00         2\n",
      "                           EdTech       0.08      1.00      0.15        16\n",
      "                           Edtech       0.00      0.00      0.00         5\n",
      "                          FinTech       1.00      0.04      0.08        24\n",
      "               Financial Services       1.00      0.20      0.33         5\n",
      "                          Fintech       0.00      0.00      0.00         3\n",
      "                 Food & Beverages       1.00      0.25      0.40         4\n",
      "                           Gaming       0.00      0.00      0.00         5\n",
      "       Health, Wellness & Fitness       0.00      0.00      0.00         2\n",
      "                       HealthCare       0.00      0.00      0.00         2\n",
      "                       HealthTech       0.00      0.00      0.00         2\n",
      "                       Healthcare       0.00      0.00      0.00         3\n",
      "                       Healthtech       0.00      0.00      0.00         1\n",
      "Information Technology & Services       0.00      0.00      0.00         2\n",
      "                        Logistics       0.00      0.00      0.00         3\n",
      "         Logistics & Supply Chain       0.00      0.00      0.00         4\n",
      "                            Other       0.00      0.00      0.00       101\n",
      "                           Retail       0.00      0.00      0.00         3\n",
      "                     SaaS startup       0.00      0.00      0.00         2\n",
      "                     Tech Startup       0.00      0.00      0.00         3\n",
      "\n",
      "                         accuracy                           0.11       220\n",
      "                        macro avg       0.16      0.08      0.07       220\n",
      "                     weighted avg       0.19      0.11      0.06       220\n",
      "\n"
     ]
    },
    {
     "name": "stderr",
     "output_type": "stream",
     "text": [
      "c:\\Users\\MoseS\\AppData\\Local\\Programs\\Python\\Python312\\Lib\\site-packages\\sklearn\\metrics\\_classification.py:1531: UndefinedMetricWarning: Precision is ill-defined and being set to 0.0 in labels with no predicted samples. Use `zero_division` parameter to control this behavior.\n",
      "  _warn_prf(average, modifier, f\"{metric.capitalize()} is\", len(result))\n",
      "c:\\Users\\MoseS\\AppData\\Local\\Programs\\Python\\Python312\\Lib\\site-packages\\sklearn\\metrics\\_classification.py:1531: UndefinedMetricWarning: Precision is ill-defined and being set to 0.0 in labels with no predicted samples. Use `zero_division` parameter to control this behavior.\n",
      "  _warn_prf(average, modifier, f\"{metric.capitalize()} is\", len(result))\n",
      "c:\\Users\\MoseS\\AppData\\Local\\Programs\\Python\\Python312\\Lib\\site-packages\\sklearn\\metrics\\_classification.py:1531: UndefinedMetricWarning: Precision is ill-defined and being set to 0.0 in labels with no predicted samples. Use `zero_division` parameter to control this behavior.\n",
      "  _warn_prf(average, modifier, f\"{metric.capitalize()} is\", len(result))\n"
     ]
    }
   ],
   "source": [
    "import pandas as pd\n",
    "from sklearn.svm import SVC\n",
    "from sklearn.preprocessing import LabelEncoder\n",
    "from sklearn.feature_extraction.text import TfidfVectorizer\n",
    "from sklearn.pipeline import Pipeline\n",
    "import spacy\n",
    "import en_core_web_sm\n",
    "nlp = en_core_web_sm.load()\n",
    "from sklearn.model_selection import train_test_split  # Import train_test_split\n",
    "from sklearn.metrics import classification_report # Import classification_report\n",
    "\n",
    "# Load data and preprocess text\n",
    "nlp = spacy.load(\"en_core_web_sm\")\n",
    "def preprocess(text):\n",
    "    doc = nlp(str(text))\n",
    "    return \" \".join([token.lemma_ for token in doc if not token.is_stop and token.is_alpha])\n",
    "\n",
    "file_path = \"F:\\\\school\\\\Azubi Africa\\\\LP1 Data Analytics Project\\\\LP-1-Project\\\\data\\\\Aba3_cleaned.csv\"\n",
    "df = pd.read_csv(file_path)\n",
    "df['About_Company'] = df['About_Company'].apply(preprocess)\n",
    "\n",
    "# Group rare classes\n",
    "industry_counts = df['Industry'].value_counts()\n",
    "df['Industry'] = df['Industry'].apply(lambda x: x if pd.notnull(x) and industry_counts.get(x, 0) >= 10 else \"Other\")\n",
    "\n",
    "# Define pipeline\n",
    "pipeline = Pipeline([\n",
    "    ('tfidf', TfidfVectorizer(ngram_range=(1, 2), max_features=5000)),\n",
    "    ('model', SVC(class_weight='balanced'))  # Handles class imbalance\n",
    "])\n",
    "\n",
    "# Train-test split\n",
    "X_train, X_test, y_train, y_test = train_test_split(\n",
    "    df['About_Company'], df['Industry'], test_size=0.2, random_state=42\n",
    ")\n",
    "\n",
    "# Train and evaluate\n",
    "pipeline.fit(X_train, y_train)\n",
    "y_pred = pipeline.predict(X_test)\n",
    "print(classification_report(y_test, y_pred))\n"
   ]
  },
  {
   "cell_type": "markdown",
   "metadata": {},
   "source": [
    "*Improvements Made:*\n",
    "\n",
    "Class Consolidation: Grouped rare industries (frequency < 10) into \"Other\".\n",
    "\n",
    "Text Preprocessing: Added lemmatization and special character removal.\n",
    "\n",
    "Model Upgrade: Replaced Naive Bayes with SVM (better for high-dimensional data).\n",
    "\n",
    "TF-IDF Optimization: Increased max_features and added bigrams."
   ]
  }
 ],
 "metadata": {
  "kernelspec": {
   "display_name": "Python 3",
   "language": "python",
   "name": "python3"
  },
  "language_info": {
   "codemirror_mode": {
    "name": "ipython",
    "version": 3
   },
   "file_extension": ".py",
   "mimetype": "text/x-python",
   "name": "python",
   "nbconvert_exporter": "python",
   "pygments_lexer": "ipython3",
   "version": "3.12.7"
  }
 },
 "nbformat": 4,
 "nbformat_minor": 2
}
